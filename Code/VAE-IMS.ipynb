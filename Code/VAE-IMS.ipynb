{
 "cells": [
  {
   "cell_type": "markdown",
   "metadata": {},
   "source": [
    "Author: Alonso Menéndez González"
   ]
  },
  {
   "cell_type": "markdown",
   "metadata": {},
   "source": [
    "This notebook contains the code necessary to prepare the datasets and manage the model, comprising the First and Second step in the Fault Detection System. Specifically, this code was made for the IMS dataset, but with minor adjustments, it could be reused for any dataset.\n",
    "\n",
    "First, the dataset is loaded and the model is defined in a Class, which will be later extended to include the training loop. Afterwards, it is trained using the selected dataset's healthy samples, process monitorized by using wandb. Finally, after the model has finished learning from the healthy distributions, it is asked to predict the mean and variances of the whole dataset, which are saved for the next step in the Fault Detection System.\n",
    "\n",
    "**Please note:** This code was written as a Google Colab Notebook that uses Weights & Biases. Therefore, several changes must be made before executing it."
   ]
  },
  {
   "cell_type": "markdown",
   "metadata": {},
   "source": [
    "**Table of contents**<a id='toc0_'></a>    \n",
    "- [Imports and installations](#toc1_1_)    \n",
    "- [Dataset](#toc2_)    \n",
    "  - [Custom Dataset for IMS1](#toc2_1_)    \n",
    "  - [Getting a sample](#toc2_2_)    \n",
    "- [Model Definition](#toc3_)    \n",
    "  - [Encoder](#toc3_1_)    \n",
    "    - [Test](#toc3_1_1_)    \n",
    "  - [Decoder](#toc3_2_)    \n",
    "    - [Test](#toc3_2_1_)    \n",
    "  - [LogLikelihood](#toc3_3_)    \n",
    "    - [Test](#toc3_3_1_)    \n",
    "  - [VAE class](#toc3_4_)    \n",
    "    - [Test](#toc3_4_1_)    \n",
    "  - [Training Loop](#toc3_5_)    \n",
    "- [Train Model](#toc4_)    \n",
    "- [Test model](#toc5_)    \n",
    "- [Test Model (Larger Z size)](#toc6_)    \n",
    "  - [Distributions](#toc6_1_)    \n",
    "  - [Histogram](#toc6_2_)    \n",
    "\n",
    "<!-- vscode-jupyter-toc-config\n",
    "\tnumbering=false\n",
    "\tanchor=true\n",
    "\tflat=false\n",
    "\tminLevel=1\n",
    "\tmaxLevel=6\n",
    "\t/vscode-jupyter-toc-config -->\n",
    "<!-- THIS CELL WILL BE REPLACED ON TOC UPDATE. DO NOT WRITE YOUR TEXT IN THIS CELL -->"
   ]
  },
  {
   "cell_type": "markdown",
   "metadata": {},
   "source": [
    "## <a id='toc1_1_'></a>[Imports and installations](#toc0_)\n",
    "Packages, libraries and wandb key setup"
   ]
  },
  {
   "cell_type": "code",
   "execution_count": null,
   "metadata": {
    "colab": {
     "base_uri": "https://localhost:8080/"
    },
    "executionInfo": {
     "elapsed": 19757,
     "status": "ok",
     "timestamp": 1718200620264,
     "user": {
      "displayName": "ALONSO MENENDEZ GONZALEZ",
      "userId": "00653166541482751966"
     },
     "user_tz": -120
    },
    "id": "mMK123e577YC",
    "outputId": "cb49a6c3-b9a0-4015-bcc2-1d6569e04c76"
   },
   "outputs": [
    {
     "name": "stdout",
     "output_type": "stream",
     "text": [
      "Mounted at /content/drive/\n"
     ]
    }
   ],
   "source": [
    "from google.colab import drive\n",
    "drive.mount('/content/drive/')"
   ]
  },
  {
   "cell_type": "code",
   "execution_count": null,
   "metadata": {
    "colab": {
     "base_uri": "https://localhost:8080/"
    },
    "executionInfo": {
     "elapsed": 20615,
     "status": "ok",
     "timestamp": 1718200640877,
     "user": {
      "displayName": "ALONSO MENENDEZ GONZALEZ",
      "userId": "00653166541482751966"
     },
     "user_tz": -120
    },
    "id": "qu8323C3dvlO",
    "outputId": "650f84c4-9d19-4cd8-c102-c5ec1c24c698"
   },
   "outputs": [
    {
     "name": "stdout",
     "output_type": "stream",
     "text": [
      "Collecting wandb\n",
      "  Downloading wandb-0.17.1-py3-none-manylinux_2_5_x86_64.manylinux1_x86_64.manylinux_2_17_x86_64.manylinux2014_x86_64.whl (6.8 MB)\n",
      "\u001b[2K     \u001b[90m━━━━━━━━━━━━━━━━━━━━━━━━━━━━━━━━━━━━━━━━\u001b[0m \u001b[32m6.8/6.8 MB\u001b[0m \u001b[31m6.6 MB/s\u001b[0m eta \u001b[36m0:00:00\u001b[0m\n",
      "\u001b[?25hRequirement already satisfied: click!=8.0.0,>=7.1 in /usr/local/lib/python3.10/dist-packages (from wandb) (8.1.7)\n",
      "Collecting docker-pycreds>=0.4.0 (from wandb)\n",
      "  Downloading docker_pycreds-0.4.0-py2.py3-none-any.whl (9.0 kB)\n",
      "Collecting gitpython!=3.1.29,>=1.0.0 (from wandb)\n",
      "  Downloading GitPython-3.1.43-py3-none-any.whl (207 kB)\n",
      "\u001b[2K     \u001b[90m━━━━━━━━━━━━━━━━━━━━━━━━━━━━━━━━━━━━━━━━\u001b[0m \u001b[32m207.3/207.3 kB\u001b[0m \u001b[31m7.1 MB/s\u001b[0m eta \u001b[36m0:00:00\u001b[0m\n",
      "\u001b[?25hRequirement already satisfied: platformdirs in /usr/local/lib/python3.10/dist-packages (from wandb) (4.2.2)\n",
      "Requirement already satisfied: protobuf!=4.21.0,<6,>=3.19.0 in /usr/local/lib/python3.10/dist-packages (from wandb) (3.20.3)\n",
      "Requirement already satisfied: psutil>=5.0.0 in /usr/local/lib/python3.10/dist-packages (from wandb) (5.9.5)\n",
      "Requirement already satisfied: pyyaml in /usr/local/lib/python3.10/dist-packages (from wandb) (6.0.1)\n",
      "Requirement already satisfied: requests<3,>=2.0.0 in /usr/local/lib/python3.10/dist-packages (from wandb) (2.31.0)\n",
      "Collecting sentry-sdk>=1.0.0 (from wandb)\n",
      "  Downloading sentry_sdk-2.5.1-py2.py3-none-any.whl (289 kB)\n",
      "\u001b[2K     \u001b[90m━━━━━━━━━━━━━━━━━━━━━━━━━━━━━━━━━━━━━━━━\u001b[0m \u001b[32m289.6/289.6 kB\u001b[0m \u001b[31m9.1 MB/s\u001b[0m eta \u001b[36m0:00:00\u001b[0m\n",
      "\u001b[?25hCollecting setproctitle (from wandb)\n",
      "  Downloading setproctitle-1.3.3-cp310-cp310-manylinux_2_5_x86_64.manylinux1_x86_64.manylinux_2_17_x86_64.manylinux2014_x86_64.whl (30 kB)\n",
      "Requirement already satisfied: setuptools in /usr/local/lib/python3.10/dist-packages (from wandb) (67.7.2)\n",
      "Requirement already satisfied: six>=1.4.0 in /usr/local/lib/python3.10/dist-packages (from docker-pycreds>=0.4.0->wandb) (1.16.0)\n",
      "Collecting gitdb<5,>=4.0.1 (from gitpython!=3.1.29,>=1.0.0->wandb)\n",
      "  Downloading gitdb-4.0.11-py3-none-any.whl (62 kB)\n",
      "\u001b[2K     \u001b[90m━━━━━━━━━━━━━━━━━━━━━━━━━━━━━━━━━━━━━━━━\u001b[0m \u001b[32m62.7/62.7 kB\u001b[0m \u001b[31m6.1 MB/s\u001b[0m eta \u001b[36m0:00:00\u001b[0m\n",
      "\u001b[?25hRequirement already satisfied: charset-normalizer<4,>=2 in /usr/local/lib/python3.10/dist-packages (from requests<3,>=2.0.0->wandb) (3.3.2)\n",
      "Requirement already satisfied: idna<4,>=2.5 in /usr/local/lib/python3.10/dist-packages (from requests<3,>=2.0.0->wandb) (3.7)\n",
      "Requirement already satisfied: urllib3<3,>=1.21.1 in /usr/local/lib/python3.10/dist-packages (from requests<3,>=2.0.0->wandb) (2.0.7)\n",
      "Requirement already satisfied: certifi>=2017.4.17 in /usr/local/lib/python3.10/dist-packages (from requests<3,>=2.0.0->wandb) (2024.6.2)\n",
      "Collecting smmap<6,>=3.0.1 (from gitdb<5,>=4.0.1->gitpython!=3.1.29,>=1.0.0->wandb)\n",
      "  Downloading smmap-5.0.1-py3-none-any.whl (24 kB)\n",
      "Installing collected packages: smmap, setproctitle, sentry-sdk, docker-pycreds, gitdb, gitpython, wandb\n",
      "Successfully installed docker-pycreds-0.4.0 gitdb-4.0.11 gitpython-3.1.43 sentry-sdk-2.5.1 setproctitle-1.3.3 smmap-5.0.1 wandb-0.17.1\n"
     ]
    }
   ],
   "source": [
    "!pip install wandb\n"
   ]
  },
  {
   "cell_type": "code",
   "execution_count": null,
   "metadata": {
    "colab": {
     "base_uri": "https://localhost:8080/"
    },
    "executionInfo": {
     "elapsed": 92759,
     "status": "ok",
     "timestamp": 1718200733633,
     "user": {
      "displayName": "ALONSO MENENDEZ GONZALEZ",
      "userId": "00653166541482751966"
     },
     "user_tz": -120
    },
    "id": "OE1QXH3bcVnc",
    "outputId": "f0797386-1675-42b3-d3be-c0bc26196f68"
   },
   "outputs": [
    {
     "name": "stdout",
     "output_type": "stream",
     "text": [
      "Requirement already satisfied: torch in /usr/local/lib/python3.10/dist-packages (2.3.0+cu121)\n",
      "Requirement already satisfied: filelock in /usr/local/lib/python3.10/dist-packages (from torch) (3.14.0)\n",
      "Requirement already satisfied: typing-extensions>=4.8.0 in /usr/local/lib/python3.10/dist-packages (from torch) (4.12.1)\n",
      "Requirement already satisfied: sympy in /usr/local/lib/python3.10/dist-packages (from torch) (1.12.1)\n",
      "Requirement already satisfied: networkx in /usr/local/lib/python3.10/dist-packages (from torch) (3.3)\n",
      "Requirement already satisfied: jinja2 in /usr/local/lib/python3.10/dist-packages (from torch) (3.1.4)\n",
      "Requirement already satisfied: fsspec in /usr/local/lib/python3.10/dist-packages (from torch) (2023.6.0)\n",
      "Collecting nvidia-cuda-nvrtc-cu12==12.1.105 (from torch)\n",
      "  Using cached nvidia_cuda_nvrtc_cu12-12.1.105-py3-none-manylinux1_x86_64.whl (23.7 MB)\n",
      "Collecting nvidia-cuda-runtime-cu12==12.1.105 (from torch)\n",
      "  Using cached nvidia_cuda_runtime_cu12-12.1.105-py3-none-manylinux1_x86_64.whl (823 kB)\n",
      "Collecting nvidia-cuda-cupti-cu12==12.1.105 (from torch)\n",
      "  Using cached nvidia_cuda_cupti_cu12-12.1.105-py3-none-manylinux1_x86_64.whl (14.1 MB)\n",
      "Collecting nvidia-cudnn-cu12==8.9.2.26 (from torch)\n",
      "  Using cached nvidia_cudnn_cu12-8.9.2.26-py3-none-manylinux1_x86_64.whl (731.7 MB)\n",
      "Collecting nvidia-cublas-cu12==12.1.3.1 (from torch)\n",
      "  Using cached nvidia_cublas_cu12-12.1.3.1-py3-none-manylinux1_x86_64.whl (410.6 MB)\n",
      "Collecting nvidia-cufft-cu12==11.0.2.54 (from torch)\n",
      "  Using cached nvidia_cufft_cu12-11.0.2.54-py3-none-manylinux1_x86_64.whl (121.6 MB)\n",
      "Collecting nvidia-curand-cu12==10.3.2.106 (from torch)\n",
      "  Using cached nvidia_curand_cu12-10.3.2.106-py3-none-manylinux1_x86_64.whl (56.5 MB)\n",
      "Collecting nvidia-cusolver-cu12==11.4.5.107 (from torch)\n",
      "  Using cached nvidia_cusolver_cu12-11.4.5.107-py3-none-manylinux1_x86_64.whl (124.2 MB)\n",
      "Collecting nvidia-cusparse-cu12==12.1.0.106 (from torch)\n",
      "  Using cached nvidia_cusparse_cu12-12.1.0.106-py3-none-manylinux1_x86_64.whl (196.0 MB)\n",
      "Collecting nvidia-nccl-cu12==2.20.5 (from torch)\n",
      "  Using cached nvidia_nccl_cu12-2.20.5-py3-none-manylinux2014_x86_64.whl (176.2 MB)\n",
      "Collecting nvidia-nvtx-cu12==12.1.105 (from torch)\n",
      "  Using cached nvidia_nvtx_cu12-12.1.105-py3-none-manylinux1_x86_64.whl (99 kB)\n",
      "Requirement already satisfied: triton==2.3.0 in /usr/local/lib/python3.10/dist-packages (from torch) (2.3.0)\n",
      "Collecting nvidia-nvjitlink-cu12 (from nvidia-cusolver-cu12==11.4.5.107->torch)\n",
      "  Downloading nvidia_nvjitlink_cu12-12.5.40-py3-none-manylinux2014_x86_64.whl (21.3 MB)\n",
      "\u001b[2K     \u001b[90m━━━━━━━━━━━━━━━━━━━━━━━━━━━━━━━━━━━━━━━━\u001b[0m \u001b[32m21.3/21.3 MB\u001b[0m \u001b[31m59.8 MB/s\u001b[0m eta \u001b[36m0:00:00\u001b[0m\n",
      "\u001b[?25hRequirement already satisfied: MarkupSafe>=2.0 in /usr/local/lib/python3.10/dist-packages (from jinja2->torch) (2.1.5)\n",
      "Requirement already satisfied: mpmath<1.4.0,>=1.1.0 in /usr/local/lib/python3.10/dist-packages (from sympy->torch) (1.3.0)\n",
      "Installing collected packages: nvidia-nvtx-cu12, nvidia-nvjitlink-cu12, nvidia-nccl-cu12, nvidia-curand-cu12, nvidia-cufft-cu12, nvidia-cuda-runtime-cu12, nvidia-cuda-nvrtc-cu12, nvidia-cuda-cupti-cu12, nvidia-cublas-cu12, nvidia-cusparse-cu12, nvidia-cudnn-cu12, nvidia-cusolver-cu12\n",
      "Successfully installed nvidia-cublas-cu12-12.1.3.1 nvidia-cuda-cupti-cu12-12.1.105 nvidia-cuda-nvrtc-cu12-12.1.105 nvidia-cuda-runtime-cu12-12.1.105 nvidia-cudnn-cu12-8.9.2.26 nvidia-cufft-cu12-11.0.2.54 nvidia-curand-cu12-10.3.2.106 nvidia-cusolver-cu12-11.4.5.107 nvidia-cusparse-cu12-12.1.0.106 nvidia-nccl-cu12-2.20.5 nvidia-nvjitlink-cu12-12.5.40 nvidia-nvtx-cu12-12.1.105\n"
     ]
    }
   ],
   "source": [
    "!pip install torch"
   ]
  },
  {
   "cell_type": "code",
   "execution_count": null,
   "metadata": {
    "id": "MFCFmkV8d419"
   },
   "outputs": [],
   "source": [
    "import wandb\n",
    "import os\n",
    "from google.colab import userdata\n",
    "import pandas as pd\n",
    "import numpy as np\n",
    "import glob\n",
    "\n",
    "import torch\n",
    "from torch.utils.data import Dataset, DataLoader\n",
    "from torch import nn\n",
    "from torch import optim\n",
    "\n",
    "import matplotlib.pyplot as plt\n",
    "from scipy import stats"
   ]
  },
  {
   "cell_type": "code",
   "execution_count": null,
   "metadata": {
    "id": "jX_d0QT0dy_T"
   },
   "outputs": [],
   "source": [
    "wandb_key = userdata.get('wandb')"
   ]
  },
  {
   "cell_type": "code",
   "execution_count": null,
   "metadata": {
    "colab": {
     "base_uri": "https://localhost:8080/"
    },
    "executionInfo": {
     "elapsed": 4780,
     "status": "ok",
     "timestamp": 1718200748611,
     "user": {
      "displayName": "ALONSO MENENDEZ GONZALEZ",
      "userId": "00653166541482751966"
     },
     "user_tz": -120
    },
    "id": "rRWK6t98eREy",
    "outputId": "bdfb7df9-f310-4845-c71d-3edac2782070"
   },
   "outputs": [
    {
     "name": "stderr",
     "output_type": "stream",
     "text": [
      "\u001b[34m\u001b[1mwandb\u001b[0m: W&B API key is configured. Use \u001b[1m`wandb login --relogin`\u001b[0m to force relogin\n",
      "\u001b[34m\u001b[1mwandb\u001b[0m: \u001b[33mWARNING\u001b[0m If you're specifying your api key in code, ensure this code is not shared publicly.\n",
      "\u001b[34m\u001b[1mwandb\u001b[0m: \u001b[33mWARNING\u001b[0m Consider setting the WANDB_API_KEY environment variable, or running `wandb login` from the command line.\n",
      "\u001b[34m\u001b[1mwandb\u001b[0m: Appending key for api.wandb.ai to your netrc file: /root/.netrc\n"
     ]
    },
    {
     "data": {
      "text/plain": [
       "True"
      ]
     },
     "execution_count": 6,
     "metadata": {},
     "output_type": "execute_result"
    }
   ],
   "source": [
    "wandb.login(key=wandb_key)"
   ]
  },
  {
   "cell_type": "code",
   "execution_count": null,
   "metadata": {},
   "outputs": [],
   "source": []
  },
  {
   "cell_type": "markdown",
   "metadata": {},
   "source": [
    "# <a id='toc2_'></a>[Dataset](#toc0_)\n",
    "Preparation of the CustomDataset class"
   ]
  },
  {
   "cell_type": "code",
   "execution_count": null,
   "metadata": {
    "id": "rfZ7VBl0X-OY"
   },
   "outputs": [],
   "source": [
    "csv_directory = \"/content/drive/MyDrive/TFM/IMS/set_1\" # Path to the folder containing the datasets. Expects to find several csv files.\n",
    "coi = 2 # Dont confuse with channels, which are 1-indexed"
   ]
  },
  {
   "cell_type": "code",
   "execution_count": null,
   "metadata": {
    "id": "rcuxjxebFJmL"
   },
   "outputs": [],
   "source": [
    "class CustomDataset(Dataset):\n",
    "    def __init__(self, folder_path, coi, partitions=1,top=300):\n",
    "      \"\"\"\n",
    "      folder_path: Path to the folder containing the dataset. Expects to find several csv files in it. \n",
    "      coi: index of the Column Of Interest. (Mainly, the one corresponding to the channel most related to the fault)\n",
    "      partitions: if each file is too big (memory limitations), consider increasing this number to split them into smaller chunks. Default 1.\n",
    "      top: number of files to consider as healthy (only get the top n files). Default 300.\n",
    "      \"\"\"\n",
    "      self.folder_path = folder_path\n",
    "      self.file_paths = [os.path.join(folder_path, filename) for filename in os.listdir(folder_path)][:top]\n",
    "      self.partitions = partitions\n",
    "      self.coi=coi\n",
    "\n",
    "    def __len__(self):\n",
    "        return len(self.file_paths) * self.partitions\n",
    "\n",
    "    def __getitem__(self, index):\n",
    "        file_index = index // self.partitions\n",
    "        part_index = index % self.partitions\n",
    "\n",
    "        file_path = self.file_paths[file_index]\n",
    "        df = pd.read_csv(file_path,sep=\"\\t\", header=None).iloc[:,self.coi]\n",
    "        chunks = np.array_split(df, self.partitions)\n",
    "        data = chunks[part_index]\n",
    "        tensor = torch.Tensor(data.values)\n",
    "        return tensor"
   ]
  },
  {
   "cell_type": "code",
   "execution_count": null,
   "metadata": {
    "id": "azbp8zdsX-OZ"
   },
   "outputs": [],
   "source": [
    "dataset = CustomDataset(folder_path=csv_directory, coi=coi) # As top is 300, this is the \"training dataset\""
   ]
  },
  {
   "cell_type": "code",
   "execution_count": null,
   "metadata": {
    "colab": {
     "base_uri": "https://localhost:8080/"
    },
    "executionInfo": {
     "elapsed": 6,
     "status": "ok",
     "timestamp": 1718200762771,
     "user": {
      "displayName": "ALONSO MENENDEZ GONZALEZ",
      "userId": "00653166541482751966"
     },
     "user_tz": -120
    },
    "id": "RzGTu28aUSrI",
    "outputId": "55be9b74-cfc7-47d9-c14f-5b8c151c21f0"
   },
   "outputs": [
    {
     "data": {
      "text/plain": [
       "300"
      ]
     },
     "execution_count": 10,
     "metadata": {},
     "output_type": "execute_result"
    }
   ],
   "source": [
    "len(dataset) # Should be the same as \"top\""
   ]
  },
  {
   "cell_type": "code",
   "execution_count": null,
   "metadata": {
    "id": "hUjvQJvuYxQp"
   },
   "outputs": [],
   "source": [
    "batch_size = 8 # Careful with big datasets and memory available"
   ]
  },
  {
   "cell_type": "code",
   "execution_count": null,
   "metadata": {},
   "outputs": [],
   "source": [
    "dataloader = DataLoader(dataset, batch_size=batch_size, shuffle=True) #Ready for use!"
   ]
  },
  {
   "cell_type": "markdown",
   "metadata": {},
   "source": [
    "## <a id='toc2_1_'></a>[Custom Dataset for IMS1](#toc0_)\n",
    "Alternative dataset for IMS1. This code was used to load several columns at the same time, aiming to improve the results by taking into account several channels that might be related to the fault."
   ]
  },
  {
   "cell_type": "code",
   "execution_count": null,
   "metadata": {
    "id": "rHnSlMuydY3U"
   },
   "outputs": [],
   "source": [
    "csv_directory = \"/content/drive/MyDrive/TFM/IMS/set_1\"\n",
    "#col_names = [\"Ch1\",\"Ch2\",\"Ch3\",\"Ch4\",\"Ch5\",\"Ch6\",\"Ch7\",\"Ch8\"]"
   ]
  },
  {
   "cell_type": "code",
   "execution_count": null,
   "metadata": {
    "id": "t4T6c3wbdY3V"
   },
   "outputs": [],
   "source": [
    "class CustomDatasetIMS1(Dataset):\n",
    "    def __init__(self, folder_path, partitions=1,top=300):\n",
    "      \"\"\"\n",
    "      top: number of files to consider as healthy (only get the top n files)\n",
    "      \"\"\"\n",
    "      self.folder_path = folder_path\n",
    "      self.file_paths = [os.path.join(folder_path, filename) for filename in os.listdir(folder_path)][:top]\n",
    "      self.partitions = partitions\n",
    "\n",
    "    def __len__(self):\n",
    "        return len(self.file_paths) * self.partitions\n",
    "\n",
    "    def __getitem__(self, index):\n",
    "        file_index = index // self.partitions\n",
    "        part_index = index % self.partitions\n",
    "\n",
    "        file_path = self.file_paths[file_index]\n",
    "        df = pd.read_csv(file_path,sep=\"\\t\", header=None).iloc[:,4:] # <- This \".iloc[:,4:] controls the columns selected. Basically replaces the coi\"\n",
    "        chunks = np.array_split(df, self.partitions)\n",
    "        data = chunks[part_index]\n",
    "        tensor = torch.Tensor(data.values)\n",
    "        tensor = torch.flatten(tensor)\n",
    "        return tensor"
   ]
  },
  {
   "cell_type": "code",
   "execution_count": null,
   "metadata": {
    "id": "JNUiLg8KdY3V"
   },
   "outputs": [],
   "source": [
    "dataset = CustomDatasetIMS1(folder_path=csv_directory)"
   ]
  },
  {
   "cell_type": "code",
   "execution_count": null,
   "metadata": {
    "colab": {
     "base_uri": "https://localhost:8080/"
    },
    "executionInfo": {
     "elapsed": 356,
     "status": "ok",
     "timestamp": 1718200763125,
     "user": {
      "displayName": "ALONSO MENENDEZ GONZALEZ",
      "userId": "00653166541482751966"
     },
     "user_tz": -120
    },
    "id": "9yjWi28QdY3V",
    "outputId": "43fea23b-f6f9-417d-8280-399c8ac6c571"
   },
   "outputs": [
    {
     "data": {
      "text/plain": [
       "300"
      ]
     },
     "execution_count": 16,
     "metadata": {},
     "output_type": "execute_result"
    }
   ],
   "source": [
    "len(dataset)"
   ]
  },
  {
   "cell_type": "code",
   "execution_count": null,
   "metadata": {
    "id": "iUSqt2ofdY3W"
   },
   "outputs": [],
   "source": [
    "batch_size = 2 # Be even more careful with memory usage, as more columns are being added."
   ]
  },
  {
   "cell_type": "code",
   "execution_count": null,
   "metadata": {},
   "outputs": [],
   "source": [
    "dataloader = DataLoader(dataset, batch_size=batch_size, shuffle=True)"
   ]
  },
  {
   "cell_type": "markdown",
   "metadata": {},
   "source": [
    "## <a id='toc2_2_'></a>[Getting a sample](#toc0_)\n",
    "Run this code to get the \"train\" iterator and \"input_size\""
   ]
  },
  {
   "cell_type": "code",
   "execution_count": null,
   "metadata": {
    "id": "zylyQJTxRrEJ"
   },
   "outputs": [],
   "source": [
    "train = iter(dataloader)"
   ]
  },
  {
   "cell_type": "code",
   "execution_count": null,
   "metadata": {
    "id": "_ZkesPYfTGBK"
   },
   "outputs": [],
   "source": [
    "i = next(train)"
   ]
  },
  {
   "cell_type": "code",
   "execution_count": null,
   "metadata": {
    "colab": {
     "base_uri": "https://localhost:8080/"
    },
    "executionInfo": {
     "elapsed": 6,
     "status": "ok",
     "timestamp": 1718200764656,
     "user": {
      "displayName": "ALONSO MENENDEZ GONZALEZ",
      "userId": "00653166541482751966"
     },
     "user_tz": -120
    },
    "id": "Zhr7qVxVirU9",
    "outputId": "5a16d2da-0b9f-4ab6-f790-727f750baa21"
   },
   "outputs": [
    {
     "data": {
      "text/plain": [
       "torch.Size([2, 81920])"
      ]
     },
     "execution_count": 21,
     "metadata": {},
     "output_type": "execute_result"
    }
   ],
   "source": [
    "i.shape"
   ]
  },
  {
   "cell_type": "code",
   "execution_count": null,
   "metadata": {
    "id": "oHTPtTlsWevk"
   },
   "outputs": [],
   "source": [
    "#input_size = i.shape[1] * i.shape[2]\n",
    "#input_size = 20480 * 8"
   ]
  },
  {
   "cell_type": "code",
   "execution_count": null,
   "metadata": {},
   "outputs": [],
   "source": [
    "input_size = i.shape[1]"
   ]
  },
  {
   "cell_type": "markdown",
   "metadata": {},
   "source": [
    "# <a id='toc3_'></a>[Model Definition](#toc0_)\n",
    "Contains all the necessary classes to build the VAE_extended class. Each section contains small tests that were used during development."
   ]
  },
  {
   "cell_type": "markdown",
   "metadata": {},
   "source": [
    "## <a id='toc3_1_'></a>[Encoder](#toc0_)"
   ]
  },
  {
   "cell_type": "code",
   "execution_count": null,
   "metadata": {},
   "outputs": [],
   "source": [
    "class encoder(nn.Module):\n",
    "\n",
    "    def __init__(self, dimz, input_size):\n",
    "\n",
    "\n",
    "        super().__init__()\n",
    "\n",
    "        self.dimz = dimz    #dimz is k, the dimension of the latent space\n",
    "\n",
    "        self.linear1 = nn.Linear(input_size, 3500)\n",
    "        self.linear2 = nn.Linear(3500, 700)\n",
    "        self.linear3 = nn.Linear(700, 200)\n",
    "        self.linear4 = nn.Linear(200,10)\n",
    "        self.linear5 = nn.Linear(10,dimz*2)\n",
    "\n",
    "        self.relu = nn.ReLU()\n",
    "        self.softplus = nn.Softplus()\n",
    "\n",
    "\n",
    "\n",
    "    def forward(self,x):\n",
    "\n",
    "        z = torch.flatten(x, start_dim=1)\n",
    "\n",
    "        z = self.relu(self.linear1(z))\n",
    "        z = self.relu(self.linear2(z))\n",
    "        z = self.relu(self.linear3(z))\n",
    "        z = self.relu(self.linear4(z))\n",
    "\n",
    "\n",
    "\n",
    "        z = self.linear5(z)\n",
    "\n",
    "        return z\n",
    "\n",
    "    def encode_and_sample(self,x,flag_sample=True):\n",
    "\n",
    "        # This methods compute both the posterior mean and variance\n",
    "        # Also we obtain a sample from the posterior using the\n",
    "        # reparameterization trick.\n",
    "\n",
    "        # We obtain the encoder projection using the forward method\n",
    "\n",
    "        z = self.forward(x)\n",
    "\n",
    "        # The mean is the first dimz components of the forward output\n",
    "\n",
    "        #mu = torch.clamp(z[:,:self.dimz], min=0.0) # Monotonic\n",
    "        mu = z[:,:self.dimz]\n",
    "\n",
    "        # We compute the variance from the last dimz components using a\n",
    "        # soft plus\n",
    "        var = self.softplus(0.5 * z[:, self.dimz:])\n",
    "\n",
    "        sample = None\n",
    "\n",
    "        if(flag_sample==True):\n",
    "\n",
    "            eps = torch.randn_like(var)\n",
    "\n",
    "            sample = mu + eps*(var**0.5)\n",
    "\n",
    "        return mu,var,sample"
   ]
  },
  {
   "cell_type": "markdown",
   "metadata": {},
   "source": [
    "### <a id='toc3_1_1_'></a>[Test](#toc0_)"
   ]
  },
  {
   "cell_type": "code",
   "execution_count": null,
   "metadata": {
    "id": "Wj3nL65LRObl"
   },
   "outputs": [],
   "source": [
    "#enc = encoder(dimz=2,input_size=input_size)\n",
    "#mu_z, var_z, sample = enc.encode_and_sample(x=i)"
   ]
  },
  {
   "cell_type": "code",
   "execution_count": null,
   "metadata": {},
   "outputs": [],
   "source": [
    "#mu_z"
   ]
  },
  {
   "cell_type": "markdown",
   "metadata": {},
   "source": [
    "## <a id='toc3_2_'></a>[Decoder](#toc0_)"
   ]
  },
  {
   "cell_type": "code",
   "execution_count": null,
   "metadata": {},
   "outputs": [],
   "source": [
    "class decoder(nn.Module):\n",
    "\n",
    "    def __init__(self, dimz, output_size):\n",
    "\n",
    "\n",
    "        super().__init__()\n",
    "\n",
    "        self.dimz = dimz    #dimz is k, the dimension of the latent space\n",
    "\n",
    "        self.linear1 = nn.Linear(dimz,10)\n",
    "        self.linear2 = nn.Linear(10,200)\n",
    "        self.linear3 = nn.Linear(200,700)\n",
    "        self.linear4 = nn.Linear(700,3500)\n",
    "        self.linear5 = nn.Linear(3500,output_size)\n",
    "\n",
    "        self.relu = nn.ReLU()\n",
    "        self.tanh = nn.Tanh()\n",
    "\n",
    "\n",
    "\n",
    "    def forward(self,z):\n",
    "\n",
    "        z = self.relu(self.linear1(z))\n",
    "        z = self.relu(self.linear2(z))\n",
    "        z = self.relu(self.linear3(z))\n",
    "        z = self.relu(self.linear4(z))\n",
    "        x = self.tanh(self.linear5(z))\n",
    "\n",
    "        return x\n",
    "\n",
    "    def decode(self,z):\n",
    "\n",
    "        return self.forward(z)"
   ]
  },
  {
   "cell_type": "markdown",
   "metadata": {},
   "source": [
    "### <a id='toc3_2_1_'></a>[Test](#toc0_)"
   ]
  },
  {
   "cell_type": "code",
   "execution_count": null,
   "metadata": {
    "id": "KdhrjZdNTn4x"
   },
   "outputs": [],
   "source": [
    "#dec = decoder(dimz=2,output_size=input_size)\n",
    "#x_mean = dec.decode(mu_z).detach()"
   ]
  },
  {
   "cell_type": "code",
   "execution_count": null,
   "metadata": {
    "id": "eBMMR8i1UZsh"
   },
   "outputs": [],
   "source": [
    "#x_mean.shape"
   ]
  },
  {
   "cell_type": "code",
   "execution_count": null,
   "metadata": {},
   "outputs": [],
   "source": [
    "#x_mean.reshape(batch_size,-1)"
   ]
  },
  {
   "cell_type": "markdown",
   "metadata": {},
   "source": [
    "## <a id='toc3_3_'></a>[LogLikelihood](#toc0_)"
   ]
  },
  {
   "cell_type": "code",
   "execution_count": null,
   "metadata": {},
   "outputs": [],
   "source": [
    "def eval_Gaussian_LL(x,mu_x,var_x):\n",
    "\n",
    "    # x is a mini-batch of data. It has dimension [Batch,n_recordings,n_sensors]\n",
    "\n",
    "    # mu_x is a mini-batch of reconstructed images. It has dimension [Batch,n_recordings,n_sensors]\n",
    "\n",
    "    # var_x is a torch constant\n",
    "\n",
    "    D = x.shape[1] # Dimension of the image\n",
    "\n",
    "    x = x.reshape(-1, D)\n",
    "\n",
    "    mu_x = mu_x.reshape(-1, D)\n",
    "\n",
    "    var_x = torch.ones_like(mu_x) * var_x\n",
    "\n",
    "    # Constant term in the gaussian distribution\n",
    "    cnt = D * np.log(2 * np.pi) + torch.sum(torch.log(var_x), dim=-1)\n",
    "\n",
    "    # log-likelihood per datapoint\n",
    "\n",
    "    logp_data = -0.5 * (cnt + torch.sum((x - mu_x) * var_x ** -1 * (x - mu_x), dim=-1))\n",
    "\n",
    "    # Accumulated Gaussian log-likelihood for all datapoints in the batch\n",
    "    logp = torch.sum(logp_data)\n",
    "\n",
    "    return logp,logp_data"
   ]
  },
  {
   "cell_type": "markdown",
   "metadata": {},
   "source": [
    "### <a id='toc3_3_1_'></a>[Test](#toc0_)"
   ]
  },
  {
   "cell_type": "code",
   "execution_count": null,
   "metadata": {},
   "outputs": [],
   "source": [
    "#var_x = 0.1\n",
    "#\n",
    "#logp,logp_data = eval_Gaussian_LL(i,x_mean,var_x)\n",
    "#\n",
    "#print(logp)\n",
    "#\n",
    "#plt.plot(np.arange(0,batch_size),logp_data)"
   ]
  },
  {
   "cell_type": "markdown",
   "metadata": {},
   "source": [
    "## <a id='toc3_4_'></a>[VAE class](#toc0_)"
   ]
  },
  {
   "cell_type": "code",
   "execution_count": null,
   "metadata": {},
   "outputs": [],
   "source": [
    "class VAE(nn.Module):\n",
    "\n",
    "    def __init__(self,dimz,input_size,var_x=0.1):\n",
    "\n",
    "        super().__init__()\n",
    "\n",
    "        self.var_x = var_x\n",
    "\n",
    "        self.dimz = dimz\n",
    "        self.input_size = input_size\n",
    "\n",
    "        # We create an encoder network\n",
    "\n",
    "        self.encoder = encoder(self.dimz, self.input_size)\n",
    "\n",
    "        # We create a decoder network\n",
    "\n",
    "        self.decoder = decoder(self.dimz, self.input_size)\n",
    "\n",
    "    def forward(self,x):\n",
    "\n",
    "        # In the forward method, we return the mean and variance\n",
    "        # given by the encoder network and also the reconstruction mean\n",
    "        # given by the decoder network using a sample from the\n",
    "        # encoder's posterior distribution.\n",
    "\n",
    "        mu_z,var_z,sample_z = self.encoder.encode_and_sample(x=x)\n",
    "\n",
    "        # Decoder provides the mean of the reconstruction\n",
    "\n",
    "        mu_x = self.decoder.decode(sample_z)\n",
    "\n",
    "        return mu_x,mu_z,var_z\n",
    "\n",
    "    # Reconstruction + KL divergence losses summed over all elements and batch\n",
    "\n",
    "    def loss_function(self, x, mu_x, mu_z, var_z):\n",
    "\n",
    "        # We evaluate the loglikelihood in the batch using the function provided above\n",
    "\n",
    "        logp,_ = eval_Gaussian_LL(x, mu_x, torch.tensor(0.1))\n",
    "\n",
    "        # KL divergence between q(z) and N()\n",
    "        # see Appendix B from VAE paper:\n",
    "        # Kingma and Welling. Auto-Encoding Variational Bayes. ICLR, 2014\n",
    "        # https://arxiv.org/abs/1312.6114\n",
    "\n",
    "        KLz = -0.5 * torch.sum(1 + torch.log(var_z) - mu_z.pow(2) - var_z)\n",
    "\n",
    "        # To maximize ELBO we minimize loss (-ELBO)\n",
    "        return -logp + KLz, -logp, KLz"
   ]
  },
  {
   "cell_type": "markdown",
   "metadata": {},
   "source": [
    "### <a id='toc3_4_1_'></a>[Test](#toc0_)"
   ]
  },
  {
   "cell_type": "code",
   "execution_count": null,
   "metadata": {
    "id": "GZ1Nfna86kc5"
   },
   "outputs": [],
   "source": [
    "#my_vae = VAE(dimz=2,input_size=input_size)"
   ]
  },
  {
   "cell_type": "code",
   "execution_count": null,
   "metadata": {},
   "outputs": [],
   "source": [
    "#print(my_vae.loss_function(i,x_mean,mu_z,var_z))"
   ]
  },
  {
   "cell_type": "markdown",
   "metadata": {},
   "source": [
    "## <a id='toc3_5_'></a>[Training Loop](#toc0_)"
   ]
  },
  {
   "cell_type": "code",
   "execution_count": null,
   "metadata": {},
   "outputs": [],
   "source": [
    "class VAE_extended(VAE):\n",
    "\n",
    "    def __init__(self,name,notes,\n",
    "                 dimz=2,  input_size=3, var_x=0.1,lr=1e-3,epochs=20,\n",
    "                 save_folder='/content/drive/MyDrive/TFM/models/',restore=False,\n",
    "                 ):\n",
    "        \"\"\"\n",
    "        dimz: Size of the latent space. Note that size 1 means that dimz will be 1 pair of values (mean & variance)\n",
    "        save_folder: The model will be saved from time to time while training in this location in a file called \"<name>.pth\"\n",
    "        restore: Set to True to resume the training from the specified .pth file.\n",
    "        \"\"\"\n",
    "\n",
    "        super().__init__(dimz,input_size=input_size,var_x=var_x)\n",
    "\n",
    "        self.lr = lr\n",
    "        self.optim = optim.Adam(self.parameters(), self.lr)\n",
    "        self.epochs = epochs\n",
    "\n",
    "        self.save_folder = save_folder\n",
    "        self.name = name\n",
    "\n",
    "        if(restore==True):\n",
    "            state_dict = torch.load(self.save_folder+self.name+'.pth')\n",
    "            self.load_state_dict(state_dict)\n",
    "\n",
    "        self.loss_during_training = []\n",
    "        self.reconstruc_during_training = []\n",
    "        self.KL_during_training = []\n",
    "\n",
    "        self.device = torch.device(\"cuda\" if torch.cuda.is_available() else \"cpu\")\n",
    "        self.to(self.device)\n",
    "\n",
    "\n",
    "\n",
    "        wandb.init(\n",
    "          project=\"TFM\",\n",
    "          entity=\"healthcare-ai\",\n",
    "          name=name,\n",
    "          notes=notes,\n",
    "          config={\n",
    "            \"epochs\": epochs,\n",
    "            \"layer_size\": [input_size, 4000, 1000, 200, 50, dimz],\n",
    "            \"lr\": lr,\n",
    "            \"var_x\": var_x,\n",
    "            })\n",
    "\n",
    "    def trainloop(self,trainloader):\n",
    "\n",
    "        nims = len(trainloader.dataset)\n",
    "\n",
    "        self.train()\n",
    "\n",
    "        for e in range(int(self.epochs)):\n",
    "\n",
    "            train_loss = 0\n",
    "            train_rec = 0\n",
    "            train_kl_l = 0\n",
    "\n",
    "            idx_batch = 0\n",
    "\n",
    "            for items in trainloader:\n",
    "\n",
    "                items = items.to(self.device)\n",
    "\n",
    "                self.optim.zero_grad()\n",
    "\n",
    "                mu_x, mu_z, var_z = self.forward(items)\n",
    "\n",
    "                loss, rec, kl_l = self.loss_function(items,mu_x, mu_z, var_z)\n",
    "\n",
    "                loss.backward()\n",
    "\n",
    "                train_loss += loss.item()\n",
    "                train_rec += rec.item()\n",
    "                train_kl_l += kl_l.item()\n",
    "\n",
    "                self.optim.step()\n",
    "\n",
    "                if (idx_batch % (len(trainloader)//20) == 0):\n",
    "\n",
    "                  print(f'Training: {idx_batch}/{len(trainloader)}')\n",
    "\n",
    "                if(idx_batch%10==0):\n",
    "\n",
    "                    torch.save(self.state_dict(), self.save_folder + self.name +'.pth')\n",
    "                    #print(f'Train Batch: {idx_batch}')\n",
    "\n",
    "                idx_batch += 1\n",
    "\n",
    "\n",
    "            self.loss_during_training.append(train_loss/len(trainloader))\n",
    "            self.reconstruc_during_training.append(train_rec/len(trainloader))\n",
    "            self.KL_during_training.append(train_kl_l/len(trainloader))\n",
    "\n",
    "            metrics = {\"train/train_loss\": train_loss/len(trainloader),\n",
    "                       \"train/train_reconstruction\": train_rec/len(trainloader),\n",
    "                       \"train/train_kl_loss\": train_kl_l/len(trainloader),\n",
    "                       \"train/epoch\": e,\n",
    "                       }\n",
    "\n",
    "            wandb.log(metrics)\n",
    "\n",
    "            if(e%1==0):\n",
    "\n",
    "                torch.save(self.state_dict(), self.save_folder + self.name +'.pth')\n",
    "                print('Train Epoch: {} \\tLoss: {:.6f}'.format(e,self.loss_during_training[-1]))\n",
    "\n",
    "\n",
    "    def sample(self,num_imgs):\n",
    "\n",
    "        with torch.no_grad():\n",
    "\n",
    "            eps = torch.randn([num_imgs,self.dimz]).to(self.device)\n",
    "\n",
    "            x_sample = self.decoder.decode(eps)\n",
    "\n",
    "            return x_sample.to(\"cpu\").detach()\n",
    "\n",
    "    def encode_and_sample_loop(self, dataloader, flag_sample=True):\n",
    "      \"\"\"\n",
    "\n",
    "\n",
    "      parameters:\n",
    "        dataloader: of a dataset. Careful with batch size.\n",
    "        flag_sample: if true, a sample with mu and var will be computed.\n",
    "\n",
    "\n",
    "      For each of the elements of dataloader, encode and obtain the following:\n",
    "        mu_x: mean of the element, of size (batch_size, dimz)\n",
    "        var_x: variance, same size\n",
    "        sample: using the previous values, adquire a sample.\n",
    "      \"\"\"\n",
    "      for items in dataloader:\n",
    "        items = items.to(self.device)\n",
    "        mu_x, var_x, sample = self.encoder.encode_and_sample(x=items,flag_sample=flag_sample)\n",
    "\n",
    "        for row_index in range(mu_x.shape[0]):\n",
    "          mu = mu_x[row_index].tolist()\n",
    "          var = var_x[row_index].tolist()\n",
    "\n",
    "\n",
    "\n",
    "\n",
    "          wandb.log({\"mu0\":mu[0],\n",
    "                     \"mu1\":mu[1],\n",
    "                     \"mu2\":mu[2],\n",
    "                     \"mu3\":mu[3],\n",
    "                     #\"mu4\":mu[4],\n",
    "                     \"var0\":var[0],\n",
    "                     \"var1\":var[1],\n",
    "                     \"var2\":var[2],\n",
    "                     \"var3\":var[3],\n",
    "                     #\"var4\":var[4],\n",
    "                     })\n",
    "\n",
    "\n",
    "\n",
    "\n"
   ]
  },
  {
   "cell_type": "markdown",
   "metadata": {},
   "source": [
    "# <a id='toc4_'></a>[Train Model](#toc0_)\n",
    "Code for training the model. First the class is initialized and the trainloop is executed afterwards.\n",
    "\n",
    "Currently, an old test can be seen where a Size 8 latent space was being trained."
   ]
  },
  {
   "cell_type": "code",
   "execution_count": null,
   "metadata": {
    "colab": {
     "base_uri": "https://localhost:8080/",
     "height": 121
    },
    "executionInfo": {
     "elapsed": 10741,
     "status": "ok",
     "timestamp": 1718170786100,
     "user": {
      "displayName": "ALONSO MENENDEZ GONZALEZ",
      "userId": "00653166541482751966"
     },
     "user_tz": -120
    },
    "id": "5v5fhytO-H8y",
    "outputId": "40d8ece8-aef6-403b-f6af-b513bcf33a31"
   },
   "outputs": [],
   "source": [
    "my_vae_scratch = VAE_extended(name=\"VAE-IMS1-QuadZ-QuadChannel\",\n",
    "                              notes=\"Changed input to recieve both channels of bearing 3 and 4: Ch5, Ch6, Ch7 & Ch8\",\n",
    "                              dimz=4, epochs=200, lr=1e-5,\n",
    "                              input_size=input_size, restore=False)"
   ]
  },
  {
   "cell_type": "code",
   "execution_count": null,
   "metadata": {
    "colab": {
     "base_uri": "https://localhost:8080/"
    },
    "id": "xo-tVhLVWV21",
    "outputId": "2ef15739-1580-4222-f437-02083f0de68d"
   },
   "outputs": [
    {
     "name": "stdout",
     "output_type": "stream",
     "text": [
      "Training: 0/150\n",
      "Training: 7/150\n",
      "Training: 14/150\n",
      "Training: 21/150\n",
      "Training: 28/150\n",
      "Training: 35/150\n",
      "Training: 42/150\n",
      "Training: 49/150\n",
      "Training: 56/150\n",
      "Training: 63/150\n",
      "Training: 70/150\n",
      "Training: 77/150\n",
      "Training: 84/150\n",
      "Training: 91/150\n",
      "Training: 98/150\n",
      "Training: 105/150\n",
      "Training: 112/150\n",
      "Training: 119/150\n",
      "Training: 126/150\n",
      "Training: 133/150\n",
      "Training: 140/150\n",
      "Training: 147/150\n",
      "Train Epoch: 0 \tLoss: -26171.932357\n",
      "Training: 0/150\n",
      "Training: 7/150\n",
      "Training: 14/150\n",
      "Training: 21/150\n",
      "Training: 28/150\n",
      "Training: 35/150\n",
      "Training: 42/150\n",
      "Training: 49/150\n",
      "Training: 56/150\n",
      "Training: 63/150\n",
      "Training: 70/150\n",
      "Training: 77/150\n",
      "Training: 84/150\n",
      "Training: 91/150\n",
      "Training: 98/150\n",
      "Training: 105/150\n",
      "Training: 112/150\n",
      "Training: 119/150\n",
      "Training: 126/150\n",
      "Training: 133/150\n",
      "Training: 140/150\n",
      "Training: 147/150\n",
      "Train Epoch: 1 \tLoss: -29552.126953\n",
      "Training: 0/150\n",
      "Training: 7/150\n",
      "Training: 14/150\n",
      "Training: 21/150\n",
      "Training: 28/150\n",
      "Training: 35/150\n",
      "Training: 42/150\n",
      "Training: 49/150\n",
      "Training: 56/150\n",
      "Training: 63/150\n",
      "Training: 70/150\n",
      "Training: 77/150\n",
      "Training: 84/150\n",
      "Training: 91/150\n",
      "Training: 98/150\n",
      "Training: 105/150\n",
      "Training: 112/150\n",
      "Training: 119/150\n",
      "Training: 126/150\n",
      "Training: 133/150\n",
      "Training: 140/150\n",
      "Training: 147/150\n",
      "Train Epoch: 2 \tLoss: -29698.566354\n",
      "Training: 0/150\n",
      "Training: 7/150\n",
      "Training: 14/150\n",
      "Training: 21/150\n",
      "Training: 28/150\n",
      "Training: 35/150\n",
      "Training: 42/150\n",
      "Training: 49/150\n",
      "Training: 56/150\n",
      "Training: 63/150\n",
      "Training: 70/150\n",
      "Training: 77/150\n",
      "Training: 84/150\n",
      "Training: 91/150\n",
      "Training: 98/150\n",
      "Training: 105/150\n",
      "Training: 112/150\n",
      "Training: 119/150\n",
      "Training: 126/150\n",
      "Training: 133/150\n",
      "Training: 140/150\n",
      "Training: 147/150\n",
      "Train Epoch: 3 \tLoss: -29784.881484\n",
      "Training: 0/150\n",
      "Training: 7/150\n",
      "Training: 14/150\n",
      "Training: 21/150\n",
      "Training: 28/150\n",
      "Training: 35/150\n",
      "Training: 42/150\n",
      "Training: 49/150\n",
      "Training: 56/150\n",
      "Training: 63/150\n",
      "Training: 70/150\n",
      "Training: 77/150\n",
      "Training: 84/150\n",
      "Training: 91/150\n",
      "Training: 98/150\n",
      "Training: 105/150\n",
      "Training: 112/150\n",
      "Training: 119/150\n",
      "Training: 126/150\n",
      "Training: 133/150\n",
      "Training: 140/150\n",
      "Training: 147/150\n",
      "Train Epoch: 4 \tLoss: -29824.280482\n",
      "Training: 0/150\n",
      "Training: 7/150\n",
      "Training: 14/150\n",
      "Training: 21/150\n",
      "Training: 28/150\n",
      "Training: 35/150\n",
      "Training: 42/150\n",
      "Training: 49/150\n",
      "Training: 56/150\n",
      "Training: 63/150\n",
      "Training: 70/150\n",
      "Training: 77/150\n",
      "Training: 84/150\n",
      "Training: 91/150\n",
      "Training: 98/150\n",
      "Training: 105/150\n",
      "Training: 112/150\n",
      "Training: 119/150\n",
      "Training: 126/150\n",
      "Training: 133/150\n",
      "Training: 140/150\n",
      "Training: 147/150\n",
      "Train Epoch: 5 \tLoss: -29860.275378\n",
      "Training: 0/150\n",
      "Training: 7/150\n",
      "Training: 14/150\n",
      "Training: 21/150\n",
      "Training: 28/150\n",
      "Training: 35/150\n",
      "Training: 42/150\n",
      "Training: 49/150\n",
      "Training: 56/150\n",
      "Training: 63/150\n",
      "Training: 70/150\n",
      "Training: 77/150\n",
      "Training: 84/150\n",
      "Training: 91/150\n",
      "Training: 98/150\n",
      "Training: 105/150\n",
      "Training: 112/150\n",
      "Training: 119/150\n",
      "Training: 126/150\n",
      "Training: 133/150\n",
      "Training: 140/150\n",
      "Training: 147/150\n",
      "Train Epoch: 6 \tLoss: -29880.844453\n",
      "Training: 0/150\n",
      "Training: 7/150\n",
      "Training: 14/150\n",
      "Training: 21/150\n",
      "Training: 28/150\n",
      "Training: 35/150\n"
     ]
    }
   ],
   "source": [
    "my_vae_scratch.trainloop(dataloader)"
   ]
  },
  {
   "cell_type": "code",
   "execution_count": null,
   "metadata": {},
   "outputs": [
    {
     "name": "stdout",
     "output_type": "stream",
     "text": [
      "tensor([[[-0.1030, -0.0200,  0.0240,  ..., -0.1880, -0.2860, -0.1070],\n",
      "         [-0.0680, -0.0680, -0.0150,  ..., -0.0070, -0.1760, -0.2590],\n",
      "         [-0.0590,  0.1290, -0.0630,  ..., -0.0390, -0.1270, -0.2120],\n",
      "         ...,\n",
      "         [-0.1440, -0.1490, -0.1590,  ..., -0.0880, -0.1050, -0.2250],\n",
      "         [-0.1540, -0.0780, -0.0610,  ..., -0.0930, -0.0490, -0.1710],\n",
      "         [-0.0950, -0.0320, -0.2100,  ..., -0.3520, -0.1610, -0.1200]]])\n"
     ]
    }
   ],
   "source": [
    "for i in train_dataloader\n",
    "  print(i)\n",
    "  break"
   ]
  },
  {
   "cell_type": "markdown",
   "metadata": {},
   "source": [
    "# <a id='toc5_'></a>[Test model](#toc0_)\n",
    "Obtain predictions of Means and Variances. **Only 1** column of interest."
   ]
  },
  {
   "cell_type": "code",
   "execution_count": null,
   "metadata": {
    "id": "gqcZL4UKjOJ8"
   },
   "outputs": [],
   "source": [
    "dataset = CustomDataset(folder_path=csv_directory, coi=2, top=-1)"
   ]
  },
  {
   "cell_type": "code",
   "execution_count": null,
   "metadata": {
    "colab": {
     "base_uri": "https://localhost:8080/"
    },
    "executionInfo": {
     "elapsed": 3,
     "status": "ok",
     "timestamp": 1717079801619,
     "user": {
      "displayName": "ALONSO MENENDEZ GONZALEZ",
      "userId": "00653166541482751966"
     },
     "user_tz": -120
    },
    "id": "d9F50YV8cFpO",
    "outputId": "aca238c5-0d17-45f7-d6b3-281c6f6f91fd"
   },
   "outputs": [
    {
     "data": {
      "text/plain": [
       "6323"
      ]
     },
     "execution_count": 51,
     "metadata": {},
     "output_type": "execute_result"
    }
   ],
   "source": [
    "len(dataset)"
   ]
  },
  {
   "cell_type": "code",
   "execution_count": null,
   "metadata": {
    "id": "qHH6BMxar3nO"
   },
   "outputs": [],
   "source": [
    "dataloader = DataLoader(dataset, batch_size=8, shuffle=False)"
   ]
  },
  {
   "cell_type": "code",
   "execution_count": null,
   "metadata": {
    "id": "liOEHNVEsmCk"
   },
   "outputs": [],
   "source": [
    "dataloader = iter(dataloader)"
   ]
  },
  {
   "cell_type": "code",
   "execution_count": null,
   "metadata": {
    "colab": {
     "base_uri": "https://localhost:8080/"
    },
    "executionInfo": {
     "elapsed": 3,
     "status": "ok",
     "timestamp": 1717079804048,
     "user": {
      "displayName": "ALONSO MENENDEZ GONZALEZ",
      "userId": "00653166541482751966"
     },
     "user_tz": -120
    },
    "id": "lT7dNb_8kK3N",
    "outputId": "8f462c6f-2c2f-429e-8e8f-248e72cbf005"
   },
   "outputs": [
    {
     "data": {
      "text/plain": [
       "791"
      ]
     },
     "execution_count": 54,
     "metadata": {},
     "output_type": "execute_result"
    }
   ],
   "source": [
    "len(dataloader)"
   ]
  },
  {
   "cell_type": "code",
   "execution_count": null,
   "metadata": {
    "colab": {
     "base_uri": "https://localhost:8080/",
     "height": 391,
     "referenced_widgets": [
      "7728e69ab1014dcf8e1485c39bf57a33",
      "560d27182f5e4b2c856777b6e8a464cf",
      "0e4332e8178745d78cc662ec54eb93d6",
      "209ea83207cc47649ec90a3216122bc5",
      "1474e4d591414f4e8acbcbe9b6074e44",
      "ef1ee81b78d24378b2d1913442c00b90",
      "ab1d4c265fa84cd89ddda75dafb8dc63",
      "30cf9c5779584533aa3aa6bc9f21f163"
     ]
    },
    "executionInfo": {
     "elapsed": 10760,
     "status": "ok",
     "timestamp": 1717078039854,
     "user": {
      "displayName": "ALONSO MENENDEZ GONZALEZ",
      "userId": "00653166541482751966"
     },
     "user_tz": -120
    },
    "id": "IvEQ85JRp4Tq",
    "outputId": "07f14539-7a82-417d-99a2-5b83874932af"
   },
   "outputs": [],
   "source": [
    "my_vae_scratch = VAE_extended(name=\"VAE-IMS3-SingleZ-NoClamp\",\n",
    "                              notes=\"Drawing histograms\",\n",
    "                              dimz=1, epochs=0, lr=1e-5,\n",
    "                              input_size=input_size, restore=True)"
   ]
  },
  {
   "cell_type": "code",
   "execution_count": null,
   "metadata": {
    "colab": {
     "background_save": true
    },
    "id": "8jSDToe1vMrh"
   },
   "outputs": [],
   "source": [
    "# If the following block fails, uncomment this line and try again\n",
    "# my_vae_scratch.encode_and_sample_loop(dataloader=dataloader,flag_sample=False)"
   ]
  },
  {
   "cell_type": "code",
   "execution_count": null,
   "metadata": {
    "id": "w87q5hHgCp_7"
   },
   "outputs": [],
   "source": [
    "res = pd.DataFrame(columns=[\"mu_x\",\"var_x\"])\n",
    "\n",
    "for items in dataloader:\n",
    "        items = items.to(my_vae_scratch.device)\n",
    "        mu_x, var_x, sample = my_vae_scratch.encoder.encode_and_sample(x=items)\n",
    "        df = pd.DataFrame({\n",
    "            'mu_x': sum(mu_x.tolist(), []),\n",
    "            'var_x': sum(var_x.tolist(), []),\n",
    "        })\n",
    "\n",
    "        res = pd.concat([res,df], ignore_index=True)\n"
   ]
  },
  {
   "cell_type": "code",
   "execution_count": null,
   "metadata": {
    "colab": {
     "base_uri": "https://localhost:8080/"
    },
    "executionInfo": {
     "elapsed": 36,
     "status": "ok",
     "timestamp": 1717080172702,
     "user": {
      "displayName": "ALONSO MENENDEZ GONZALEZ",
      "userId": "00653166541482751966"
     },
     "user_tz": -120
    },
    "id": "yLB8fN_hGoMn",
    "outputId": "dd5c91f9-7b11-4823-8dd1-90282e86f088"
   },
   "outputs": [
    {
     "data": {
      "application/vnd.google.colaboratory.intrinsic+json": {
       "summary": "{\n  \"name\": \"res\",\n  \"rows\": 6323,\n  \"fields\": [\n    {\n      \"column\": \"mu_x\",\n      \"properties\": {\n        \"dtype\": \"number\",\n        \"std\": 1.3531730705050988,\n        \"min\": -5.268343448638916,\n        \"max\": 5.4960737228393555,\n        \"num_unique_values\": 6323,\n        \"samples\": [\n          -0.04629643261432648,\n          -2.4766948223114014,\n          0.9607173800468445\n        ],\n        \"semantic_type\": \"\",\n        \"description\": \"\"\n      }\n    },\n    {\n      \"column\": \"var_x\",\n      \"properties\": {\n        \"dtype\": \"number\",\n        \"std\": 0.03684678560632375,\n        \"min\": 5.943850851508614e-07,\n        \"max\": 0.6277079582214355,\n        \"num_unique_values\": 6321,\n        \"samples\": [\n          0.02487584389746189,\n          0.018750673159956932,\n          0.07761145383119583\n        ],\n        \"semantic_type\": \"\",\n        \"description\": \"\"\n      }\n    }\n  ]\n}",
       "type": "dataframe",
       "variable_name": "res"
      },
      "text/html": [
       "\n",
       "  <div id=\"df-89015e78-9ee8-4d9f-bb33-bfe9a1345787\" class=\"colab-df-container\">\n",
       "    <div>\n",
       "<style scoped>\n",
       "    .dataframe tbody tr th:only-of-type {\n",
       "        vertical-align: middle;\n",
       "    }\n",
       "\n",
       "    .dataframe tbody tr th {\n",
       "        vertical-align: top;\n",
       "    }\n",
       "\n",
       "    .dataframe thead th {\n",
       "        text-align: right;\n",
       "    }\n",
       "</style>\n",
       "<table border=\"1\" class=\"dataframe\">\n",
       "  <thead>\n",
       "    <tr style=\"text-align: right;\">\n",
       "      <th></th>\n",
       "      <th>mu_x</th>\n",
       "      <th>var_x</th>\n",
       "    </tr>\n",
       "  </thead>\n",
       "  <tbody>\n",
       "    <tr>\n",
       "      <th>0</th>\n",
       "      <td>-2.213646</td>\n",
       "      <td>0.006136</td>\n",
       "    </tr>\n",
       "    <tr>\n",
       "      <th>1</th>\n",
       "      <td>-2.205960</td>\n",
       "      <td>0.005577</td>\n",
       "    </tr>\n",
       "    <tr>\n",
       "      <th>2</th>\n",
       "      <td>0.207786</td>\n",
       "      <td>0.003278</td>\n",
       "    </tr>\n",
       "    <tr>\n",
       "      <th>3</th>\n",
       "      <td>-1.623015</td>\n",
       "      <td>0.012581</td>\n",
       "    </tr>\n",
       "    <tr>\n",
       "      <th>4</th>\n",
       "      <td>-2.380131</td>\n",
       "      <td>0.002658</td>\n",
       "    </tr>\n",
       "    <tr>\n",
       "      <th>...</th>\n",
       "      <td>...</td>\n",
       "      <td>...</td>\n",
       "    </tr>\n",
       "    <tr>\n",
       "      <th>6318</th>\n",
       "      <td>-2.079853</td>\n",
       "      <td>0.014700</td>\n",
       "    </tr>\n",
       "    <tr>\n",
       "      <th>6319</th>\n",
       "      <td>-2.117157</td>\n",
       "      <td>0.006642</td>\n",
       "    </tr>\n",
       "    <tr>\n",
       "      <th>6320</th>\n",
       "      <td>1.900596</td>\n",
       "      <td>0.008418</td>\n",
       "    </tr>\n",
       "    <tr>\n",
       "      <th>6321</th>\n",
       "      <td>-1.190425</td>\n",
       "      <td>0.005771</td>\n",
       "    </tr>\n",
       "    <tr>\n",
       "      <th>6322</th>\n",
       "      <td>0.455629</td>\n",
       "      <td>0.013781</td>\n",
       "    </tr>\n",
       "  </tbody>\n",
       "</table>\n",
       "<p>6323 rows × 2 columns</p>\n",
       "</div>\n",
       "    <div class=\"colab-df-buttons\">\n",
       "\n",
       "  <div class=\"colab-df-container\">\n",
       "    <button class=\"colab-df-convert\" onclick=\"convertToInteractive('df-89015e78-9ee8-4d9f-bb33-bfe9a1345787')\"\n",
       "            title=\"Convert this dataframe to an interactive table.\"\n",
       "            style=\"display:none;\">\n",
       "\n",
       "  <svg xmlns=\"http://www.w3.org/2000/svg\" height=\"24px\" viewBox=\"0 -960 960 960\">\n",
       "    <path d=\"M120-120v-720h720v720H120Zm60-500h600v-160H180v160Zm220 220h160v-160H400v160Zm0 220h160v-160H400v160ZM180-400h160v-160H180v160Zm440 0h160v-160H620v160ZM180-180h160v-160H180v160Zm440 0h160v-160H620v160Z\"/>\n",
       "  </svg>\n",
       "    </button>\n",
       "\n",
       "  <style>\n",
       "    .colab-df-container {\n",
       "      display:flex;\n",
       "      gap: 12px;\n",
       "    }\n",
       "\n",
       "    .colab-df-convert {\n",
       "      background-color: #E8F0FE;\n",
       "      border: none;\n",
       "      border-radius: 50%;\n",
       "      cursor: pointer;\n",
       "      display: none;\n",
       "      fill: #1967D2;\n",
       "      height: 32px;\n",
       "      padding: 0 0 0 0;\n",
       "      width: 32px;\n",
       "    }\n",
       "\n",
       "    .colab-df-convert:hover {\n",
       "      background-color: #E2EBFA;\n",
       "      box-shadow: 0px 1px 2px rgba(60, 64, 67, 0.3), 0px 1px 3px 1px rgba(60, 64, 67, 0.15);\n",
       "      fill: #174EA6;\n",
       "    }\n",
       "\n",
       "    .colab-df-buttons div {\n",
       "      margin-bottom: 4px;\n",
       "    }\n",
       "\n",
       "    [theme=dark] .colab-df-convert {\n",
       "      background-color: #3B4455;\n",
       "      fill: #D2E3FC;\n",
       "    }\n",
       "\n",
       "    [theme=dark] .colab-df-convert:hover {\n",
       "      background-color: #434B5C;\n",
       "      box-shadow: 0px 1px 3px 1px rgba(0, 0, 0, 0.15);\n",
       "      filter: drop-shadow(0px 1px 2px rgba(0, 0, 0, 0.3));\n",
       "      fill: #FFFFFF;\n",
       "    }\n",
       "  </style>\n",
       "\n",
       "    <script>\n",
       "      const buttonEl =\n",
       "        document.querySelector('#df-89015e78-9ee8-4d9f-bb33-bfe9a1345787 button.colab-df-convert');\n",
       "      buttonEl.style.display =\n",
       "        google.colab.kernel.accessAllowed ? 'block' : 'none';\n",
       "\n",
       "      async function convertToInteractive(key) {\n",
       "        const element = document.querySelector('#df-89015e78-9ee8-4d9f-bb33-bfe9a1345787');\n",
       "        const dataTable =\n",
       "          await google.colab.kernel.invokeFunction('convertToInteractive',\n",
       "                                                    [key], {});\n",
       "        if (!dataTable) return;\n",
       "\n",
       "        const docLinkHtml = 'Like what you see? Visit the ' +\n",
       "          '<a target=\"_blank\" href=https://colab.research.google.com/notebooks/data_table.ipynb>data table notebook</a>'\n",
       "          + ' to learn more about interactive tables.';\n",
       "        element.innerHTML = '';\n",
       "        dataTable['output_type'] = 'display_data';\n",
       "        await google.colab.output.renderOutput(dataTable, element);\n",
       "        const docLink = document.createElement('div');\n",
       "        docLink.innerHTML = docLinkHtml;\n",
       "        element.appendChild(docLink);\n",
       "      }\n",
       "    </script>\n",
       "  </div>\n",
       "\n",
       "\n",
       "<div id=\"df-3e95ba64-7e94-4a92-aa87-99d4b316ee9b\">\n",
       "  <button class=\"colab-df-quickchart\" onclick=\"quickchart('df-3e95ba64-7e94-4a92-aa87-99d4b316ee9b')\"\n",
       "            title=\"Suggest charts\"\n",
       "            style=\"display:none;\">\n",
       "\n",
       "<svg xmlns=\"http://www.w3.org/2000/svg\" height=\"24px\"viewBox=\"0 0 24 24\"\n",
       "     width=\"24px\">\n",
       "    <g>\n",
       "        <path d=\"M19 3H5c-1.1 0-2 .9-2 2v14c0 1.1.9 2 2 2h14c1.1 0 2-.9 2-2V5c0-1.1-.9-2-2-2zM9 17H7v-7h2v7zm4 0h-2V7h2v10zm4 0h-2v-4h2v4z\"/>\n",
       "    </g>\n",
       "</svg>\n",
       "  </button>\n",
       "\n",
       "<style>\n",
       "  .colab-df-quickchart {\n",
       "      --bg-color: #E8F0FE;\n",
       "      --fill-color: #1967D2;\n",
       "      --hover-bg-color: #E2EBFA;\n",
       "      --hover-fill-color: #174EA6;\n",
       "      --disabled-fill-color: #AAA;\n",
       "      --disabled-bg-color: #DDD;\n",
       "  }\n",
       "\n",
       "  [theme=dark] .colab-df-quickchart {\n",
       "      --bg-color: #3B4455;\n",
       "      --fill-color: #D2E3FC;\n",
       "      --hover-bg-color: #434B5C;\n",
       "      --hover-fill-color: #FFFFFF;\n",
       "      --disabled-bg-color: #3B4455;\n",
       "      --disabled-fill-color: #666;\n",
       "  }\n",
       "\n",
       "  .colab-df-quickchart {\n",
       "    background-color: var(--bg-color);\n",
       "    border: none;\n",
       "    border-radius: 50%;\n",
       "    cursor: pointer;\n",
       "    display: none;\n",
       "    fill: var(--fill-color);\n",
       "    height: 32px;\n",
       "    padding: 0;\n",
       "    width: 32px;\n",
       "  }\n",
       "\n",
       "  .colab-df-quickchart:hover {\n",
       "    background-color: var(--hover-bg-color);\n",
       "    box-shadow: 0 1px 2px rgba(60, 64, 67, 0.3), 0 1px 3px 1px rgba(60, 64, 67, 0.15);\n",
       "    fill: var(--button-hover-fill-color);\n",
       "  }\n",
       "\n",
       "  .colab-df-quickchart-complete:disabled,\n",
       "  .colab-df-quickchart-complete:disabled:hover {\n",
       "    background-color: var(--disabled-bg-color);\n",
       "    fill: var(--disabled-fill-color);\n",
       "    box-shadow: none;\n",
       "  }\n",
       "\n",
       "  .colab-df-spinner {\n",
       "    border: 2px solid var(--fill-color);\n",
       "    border-color: transparent;\n",
       "    border-bottom-color: var(--fill-color);\n",
       "    animation:\n",
       "      spin 1s steps(1) infinite;\n",
       "  }\n",
       "\n",
       "  @keyframes spin {\n",
       "    0% {\n",
       "      border-color: transparent;\n",
       "      border-bottom-color: var(--fill-color);\n",
       "      border-left-color: var(--fill-color);\n",
       "    }\n",
       "    20% {\n",
       "      border-color: transparent;\n",
       "      border-left-color: var(--fill-color);\n",
       "      border-top-color: var(--fill-color);\n",
       "    }\n",
       "    30% {\n",
       "      border-color: transparent;\n",
       "      border-left-color: var(--fill-color);\n",
       "      border-top-color: var(--fill-color);\n",
       "      border-right-color: var(--fill-color);\n",
       "    }\n",
       "    40% {\n",
       "      border-color: transparent;\n",
       "      border-right-color: var(--fill-color);\n",
       "      border-top-color: var(--fill-color);\n",
       "    }\n",
       "    60% {\n",
       "      border-color: transparent;\n",
       "      border-right-color: var(--fill-color);\n",
       "    }\n",
       "    80% {\n",
       "      border-color: transparent;\n",
       "      border-right-color: var(--fill-color);\n",
       "      border-bottom-color: var(--fill-color);\n",
       "    }\n",
       "    90% {\n",
       "      border-color: transparent;\n",
       "      border-bottom-color: var(--fill-color);\n",
       "    }\n",
       "  }\n",
       "</style>\n",
       "\n",
       "  <script>\n",
       "    async function quickchart(key) {\n",
       "      const quickchartButtonEl =\n",
       "        document.querySelector('#' + key + ' button');\n",
       "      quickchartButtonEl.disabled = true;  // To prevent multiple clicks.\n",
       "      quickchartButtonEl.classList.add('colab-df-spinner');\n",
       "      try {\n",
       "        const charts = await google.colab.kernel.invokeFunction(\n",
       "            'suggestCharts', [key], {});\n",
       "      } catch (error) {\n",
       "        console.error('Error during call to suggestCharts:', error);\n",
       "      }\n",
       "      quickchartButtonEl.classList.remove('colab-df-spinner');\n",
       "      quickchartButtonEl.classList.add('colab-df-quickchart-complete');\n",
       "    }\n",
       "    (() => {\n",
       "      let quickchartButtonEl =\n",
       "        document.querySelector('#df-3e95ba64-7e94-4a92-aa87-99d4b316ee9b button');\n",
       "      quickchartButtonEl.style.display =\n",
       "        google.colab.kernel.accessAllowed ? 'block' : 'none';\n",
       "    })();\n",
       "  </script>\n",
       "</div>\n",
       "    </div>\n",
       "  </div>\n"
      ],
      "text/plain": [
       "          mu_x     var_x\n",
       "0    -2.213646  0.006136\n",
       "1    -2.205960  0.005577\n",
       "2     0.207786  0.003278\n",
       "3    -1.623015  0.012581\n",
       "4    -2.380131  0.002658\n",
       "...        ...       ...\n",
       "6318 -2.079853  0.014700\n",
       "6319 -2.117157  0.006642\n",
       "6320  1.900596  0.008418\n",
       "6321 -1.190425  0.005771\n",
       "6322  0.455629  0.013781\n",
       "\n",
       "[6323 rows x 2 columns]"
      ]
     },
     "execution_count": 56,
     "metadata": {},
     "output_type": "execute_result"
    }
   ],
   "source": [
    "res"
   ]
  },
  {
   "cell_type": "code",
   "execution_count": null,
   "metadata": {
    "colab": {
     "base_uri": "https://localhost:8080/",
     "height": 467
    },
    "executionInfo": {
     "elapsed": 1282,
     "status": "ok",
     "timestamp": 1717080173978,
     "user": {
      "displayName": "ALONSO MENENDEZ GONZALEZ",
      "userId": "00653166541482751966"
     },
     "user_tz": -120
    },
    "id": "szEFmmf2yHNM",
    "outputId": "02c16f4b-8e46-4b63-a290-b27e7a0160b1"
   },
   "outputs": [
    {
     "data": {
      "image/png": "[encoded data removed]",
      "text/plain": [
       "<Figure size 1400x500 with 2 Axes>"
      ]
     },
     "metadata": {},
     "output_type": "display_data"
    }
   ],
   "source": [
    "res.hist(bins=100, figsize=(14, 5))  # Adjust the number of bins and figure size as needed\n",
    "plt.show()"
   ]
  },
  {
   "cell_type": "code",
   "execution_count": null,
   "metadata": {},
   "outputs": [],
   "source": [
    "res.to_csv(\"IMS-3-mean-var.csv\")"
   ]
  },
  {
   "cell_type": "markdown",
   "metadata": {},
   "source": [
    "# <a id='toc6_'></a>[Test Model (Larger Z size)](#toc0_)\n",
    "Alternative code that I used for IMS1, but only to test the VAE capabilities when dealing with a larger latent space"
   ]
  },
  {
   "cell_type": "markdown",
   "metadata": {},
   "source": [
    "## <a id='toc6_1_'></a>[Distributions](#toc0_)\n",
    "Can be ommited"
   ]
  },
  {
   "cell_type": "code",
   "execution_count": null,
   "metadata": {
    "id": "kvdALM3JfSqS"
   },
   "outputs": [],
   "source": [
    "dataset = CustomDatasetIMS1(folder_path=csv_directory, top=-1)"
   ]
  },
  {
   "cell_type": "code",
   "execution_count": null,
   "metadata": {
    "colab": {
     "base_uri": "https://localhost:8080/"
    },
    "executionInfo": {
     "elapsed": 4,
     "status": "ok",
     "timestamp": 1718200765397,
     "user": {
      "displayName": "ALONSO MENENDEZ GONZALEZ",
      "userId": "00653166541482751966"
     },
     "user_tz": -120
    },
    "id": "pMFOpA3nfSqT",
    "outputId": "aa476d59-5dab-43d0-e85b-c062a5daf12a"
   },
   "outputs": [
    {
     "data": {
      "text/plain": [
       "2155"
      ]
     },
     "execution_count": 38,
     "metadata": {},
     "output_type": "execute_result"
    }
   ],
   "source": [
    "len(dataset)"
   ]
  },
  {
   "cell_type": "code",
   "execution_count": null,
   "metadata": {
    "id": "TJLUY75XfSqT"
   },
   "outputs": [],
   "source": [
    "dataloader = DataLoader(dataset, batch_size=2, shuffle=False)"
   ]
  },
  {
   "cell_type": "code",
   "execution_count": null,
   "metadata": {
    "id": "LTvPvO01fSqT"
   },
   "outputs": [],
   "source": [
    "dataloader = iter(dataloader)"
   ]
  },
  {
   "cell_type": "code",
   "execution_count": null,
   "metadata": {
    "colab": {
     "base_uri": "https://localhost:8080/"
    },
    "executionInfo": {
     "elapsed": 4,
     "status": "ok",
     "timestamp": 1718200765398,
     "user": {
      "displayName": "ALONSO MENENDEZ GONZALEZ",
      "userId": "00653166541482751966"
     },
     "user_tz": -120
    },
    "id": "iS8uqvI-fSqU",
    "outputId": "7ee2ed77-cf81-4e50-a66e-2c0936ce6f8c"
   },
   "outputs": [
    {
     "data": {
      "text/plain": [
       "1078"
      ]
     },
     "execution_count": 41,
     "metadata": {},
     "output_type": "execute_result"
    }
   ],
   "source": [
    "len(dataloader)"
   ]
  },
  {
   "cell_type": "code",
   "execution_count": null,
   "metadata": {
    "colab": {
     "base_uri": "https://localhost:8080/",
     "height": 121
    },
    "executionInfo": {
     "elapsed": 58704,
     "status": "ok",
     "timestamp": 1718200824348,
     "user": {
      "displayName": "ALONSO MENENDEZ GONZALEZ",
      "userId": "00653166541482751966"
     },
     "user_tz": -120
    },
    "id": "Ahoe8t052qMX",
    "outputId": "93823715-12d5-45ec-96f5-ecf013751393"
   },
   "outputs": [],
   "source": [
    "my_vae_scratch = VAE_extended(name=\"VAE-IMS1-QuadZ-QuadChannel\",\n",
    "                              notes=\"Drawing histograms\",\n",
    "                              dimz=4, epochs=0, lr=1e-5,\n",
    "                              input_size=input_size, restore=True)"
   ]
  },
  {
   "cell_type": "code",
   "execution_count": null,
   "metadata": {},
   "outputs": [],
   "source": [
    "my_vae_scratch.encode_and_sample_loop(dataloader=dataloader,flag_sample=False)"
   ]
  },
  {
   "cell_type": "markdown",
   "metadata": {},
   "source": [
    "## <a id='toc6_2_'></a>[Histogram](#toc0_)"
   ]
  },
  {
   "cell_type": "code",
   "execution_count": null,
   "metadata": {
    "id": "-T-ryKfk33uP"
   },
   "outputs": [],
   "source": [
    "dataset = CustomDatasetIMS1(folder_path=csv_directory, top=-1)"
   ]
  },
  {
   "cell_type": "code",
   "execution_count": null,
   "metadata": {
    "id": "_Bp4Drw033uP"
   },
   "outputs": [],
   "source": [
    "dataloader = DataLoader(dataset, batch_size=2, shuffle=False)"
   ]
  },
  {
   "cell_type": "code",
   "execution_count": null,
   "metadata": {
    "id": "HZ9B-59F33uP"
   },
   "outputs": [],
   "source": [
    "dataloader = iter(dataloader)"
   ]
  },
  {
   "cell_type": "code",
   "execution_count": null,
   "metadata": {
    "id": "BgWRnwWU3ghD"
   },
   "outputs": [],
   "source": [
    "res = pd.DataFrame(columns=[\"mu1\",\"mu2\",\"mu3\",\"mu4\",\"var1\",\"var2\",\"var3\",\"var4\"])\n",
    "\n",
    "for items in dataloader:\n",
    "        items = items.to(my_vae_scratch.device)\n",
    "        mu_x, var_x, sample = my_vae_scratch.encoder.encode_and_sample(x=items)\n",
    "\n",
    "        mu_df = pd.DataFrame(mu_x.tolist(), columns=[\"mu1\",\"mu2\",\"mu3\",\"mu4\"])\n",
    "        var_df= pd.DataFrame(var_x.tolist(), columns=[\"var1\",\"var2\",\"var3\",\"var4\"])\n",
    "\n",
    "        df = pd.concat([mu_df, var_df], axis=1)\n",
    "\n",
    "        res = pd.concat([res,df], ignore_index=True)\n"
   ]
  },
  {
   "cell_type": "code",
   "execution_count": null,
   "metadata": {
    "colab": {
     "base_uri": "https://localhost:8080/",
     "height": 423
    },
    "executionInfo": {
     "elapsed": 14,
     "status": "ok",
     "timestamp": 1718203074427,
     "user": {
      "displayName": "ALONSO MENENDEZ GONZALEZ",
      "userId": "00653166541482751966"
     },
     "user_tz": -120
    },
    "id": "V-MHFWah20Mk",
    "outputId": "d21fb27e-9411-43d9-9833-9e402e17db66"
   },
   "outputs": [
    {
     "data": {
      "application/vnd.google.colaboratory.intrinsic+json": {
       "summary": "{\n  \"name\": \"res\",\n  \"rows\": 2155,\n  \"fields\": [\n    {\n      \"column\": \"mu1\",\n      \"properties\": {\n        \"dtype\": \"number\",\n        \"std\": 0.026344928995613567,\n        \"min\": -0.325319766998291,\n        \"max\": 0.030220776796340942,\n        \"num_unique_values\": 2154,\n        \"samples\": [\n          -0.19609445333480835,\n          -0.19504469633102417,\n          -0.19417083263397217\n        ],\n        \"semantic_type\": \"\",\n        \"description\": \"\"\n      }\n    },\n    {\n      \"column\": \"mu2\",\n      \"properties\": {\n        \"dtype\": \"number\",\n        \"std\": 0.07151879262714365,\n        \"min\": 0.9266324043273926,\n        \"max\": 1.8920254707336426,\n        \"num_unique_values\": 2148,\n        \"samples\": [\n          1.6102608442306519,\n          1.2865475416183472,\n          1.54623544216156\n        ],\n        \"semantic_type\": \"\",\n        \"description\": \"\"\n      }\n    },\n    {\n      \"column\": \"mu3\",\n      \"properties\": {\n        \"dtype\": \"number\",\n        \"std\": 0.018187754679228126,\n        \"min\": -0.11485278606414795,\n        \"max\": 0.13683173060417175,\n        \"num_unique_values\": 2148,\n        \"samples\": [\n          0.0477883517742157,\n          -0.01477903127670288,\n          0.05450555682182312\n        ],\n        \"semantic_type\": \"\",\n        \"description\": \"\"\n      }\n    },\n    {\n      \"column\": \"mu4\",\n      \"properties\": {\n        \"dtype\": \"number\",\n        \"std\": 0.023030323596307467,\n        \"min\": -0.4118473529815674,\n        \"max\": -0.10589957237243652,\n        \"num_unique_values\": 2148,\n        \"samples\": [\n          -0.3020346164703369,\n          -0.21711604297161102,\n          -0.2998195290565491\n        ],\n        \"semantic_type\": \"\",\n        \"description\": \"\"\n      }\n    },\n    {\n      \"column\": \"var1\",\n      \"properties\": {\n        \"dtype\": \"number\",\n        \"std\": 0.01701328705557437,\n        \"min\": 0.8689262866973877,\n        \"max\": 1.0983920097351074,\n        \"num_unique_values\": 2116,\n        \"samples\": [\n          1.008304238319397,\n          1.0128892660140991,\n          1.0173611640930176\n        ],\n        \"semantic_type\": \"\",\n        \"description\": \"\"\n      }\n    },\n    {\n      \"column\": \"var2\",\n      \"properties\": {\n        \"dtype\": \"number\",\n        \"std\": 0.0026955631409137457,\n        \"min\": 0.6482726335525513,\n        \"max\": 0.686195969581604,\n        \"num_unique_values\": 2127,\n        \"samples\": [\n          0.658595621585846,\n          0.6696581840515137,\n          0.6615248322486877\n        ],\n        \"semantic_type\": \"\",\n        \"description\": \"\"\n      }\n    },\n    {\n      \"column\": \"var3\",\n      \"properties\": {\n        \"dtype\": \"number\",\n        \"std\": 0.02339424261547364,\n        \"min\": 0.8912146091461182,\n        \"max\": 1.2063744068145752,\n        \"num_unique_values\": 2136,\n        \"samples\": [\n          1.0848171710968018,\n          1.0854523181915283,\n          1.0885316133499146\n        ],\n        \"semantic_type\": \"\",\n        \"description\": \"\"\n      }\n    },\n    {\n      \"column\": \"var4\",\n      \"properties\": {\n        \"dtype\": \"number\",\n        \"std\": 0.0017738248816597318,\n        \"min\": 0.6917137503623962,\n        \"max\": 0.7150043249130249,\n        \"num_unique_values\": 2078,\n        \"samples\": [\n          0.6998846530914307,\n          0.700420618057251,\n          0.6999333500862122\n        ],\n        \"semantic_type\": \"\",\n        \"description\": \"\"\n      }\n    }\n  ]\n}",
       "type": "dataframe",
       "variable_name": "res"
      },
      "text/html": [
       "\n",
       "  <div id=\"df-2ecb2b2f-39e0-442d-80d2-50abc683e207\" class=\"colab-df-container\">\n",
       "    <div>\n",
       "<style scoped>\n",
       "    .dataframe tbody tr th:only-of-type {\n",
       "        vertical-align: middle;\n",
       "    }\n",
       "\n",
       "    .dataframe tbody tr th {\n",
       "        vertical-align: top;\n",
       "    }\n",
       "\n",
       "    .dataframe thead th {\n",
       "        text-align: right;\n",
       "    }\n",
       "</style>\n",
       "<table border=\"1\" class=\"dataframe\">\n",
       "  <thead>\n",
       "    <tr style=\"text-align: right;\">\n",
       "      <th></th>\n",
       "      <th>mu1</th>\n",
       "      <th>mu2</th>\n",
       "      <th>mu3</th>\n",
       "      <th>mu4</th>\n",
       "      <th>var1</th>\n",
       "      <th>var2</th>\n",
       "      <th>var3</th>\n",
       "      <th>var4</th>\n",
       "    </tr>\n",
       "  </thead>\n",
       "  <tbody>\n",
       "    <tr>\n",
       "      <th>0</th>\n",
       "      <td>-0.193404</td>\n",
       "      <td>1.535313</td>\n",
       "      <td>0.046028</td>\n",
       "      <td>-0.297995</td>\n",
       "      <td>1.009958</td>\n",
       "      <td>0.661254</td>\n",
       "      <td>1.084072</td>\n",
       "      <td>0.700019</td>\n",
       "    </tr>\n",
       "    <tr>\n",
       "      <th>1</th>\n",
       "      <td>-0.188741</td>\n",
       "      <td>1.521325</td>\n",
       "      <td>0.046322</td>\n",
       "      <td>-0.291591</td>\n",
       "      <td>1.006979</td>\n",
       "      <td>0.660956</td>\n",
       "      <td>1.079586</td>\n",
       "      <td>0.700779</td>\n",
       "    </tr>\n",
       "    <tr>\n",
       "      <th>2</th>\n",
       "      <td>-0.190799</td>\n",
       "      <td>1.528609</td>\n",
       "      <td>0.044820</td>\n",
       "      <td>-0.295673</td>\n",
       "      <td>1.008341</td>\n",
       "      <td>0.661304</td>\n",
       "      <td>1.081936</td>\n",
       "      <td>0.700121</td>\n",
       "    </tr>\n",
       "    <tr>\n",
       "      <th>3</th>\n",
       "      <td>-0.189093</td>\n",
       "      <td>1.519636</td>\n",
       "      <td>0.052712</td>\n",
       "      <td>-0.287594</td>\n",
       "      <td>1.007302</td>\n",
       "      <td>0.659621</td>\n",
       "      <td>1.079292</td>\n",
       "      <td>0.701626</td>\n",
       "    </tr>\n",
       "    <tr>\n",
       "      <th>4</th>\n",
       "      <td>-0.202746</td>\n",
       "      <td>1.559829</td>\n",
       "      <td>0.051793</td>\n",
       "      <td>-0.305938</td>\n",
       "      <td>1.015935</td>\n",
       "      <td>0.660615</td>\n",
       "      <td>1.092100</td>\n",
       "      <td>0.699590</td>\n",
       "    </tr>\n",
       "    <tr>\n",
       "      <th>...</th>\n",
       "      <td>...</td>\n",
       "      <td>...</td>\n",
       "      <td>...</td>\n",
       "      <td>...</td>\n",
       "      <td>...</td>\n",
       "      <td>...</td>\n",
       "      <td>...</td>\n",
       "      <td>...</td>\n",
       "    </tr>\n",
       "    <tr>\n",
       "      <th>2150</th>\n",
       "      <td>-0.106953</td>\n",
       "      <td>1.299037</td>\n",
       "      <td>-0.011351</td>\n",
       "      <td>-0.220990</td>\n",
       "      <td>0.954134</td>\n",
       "      <td>0.669632</td>\n",
       "      <td>1.006911</td>\n",
       "      <td>0.706197</td>\n",
       "    </tr>\n",
       "    <tr>\n",
       "      <th>2151</th>\n",
       "      <td>-0.194736</td>\n",
       "      <td>1.537068</td>\n",
       "      <td>0.050658</td>\n",
       "      <td>-0.296404</td>\n",
       "      <td>1.010853</td>\n",
       "      <td>0.660371</td>\n",
       "      <td>1.084788</td>\n",
       "      <td>0.700522</td>\n",
       "    </tr>\n",
       "    <tr>\n",
       "      <th>2152</th>\n",
       "      <td>-0.107631</td>\n",
       "      <td>1.301549</td>\n",
       "      <td>-0.012061</td>\n",
       "      <td>-0.222496</td>\n",
       "      <td>0.954569</td>\n",
       "      <td>0.669791</td>\n",
       "      <td>1.007684</td>\n",
       "      <td>0.705944</td>\n",
       "    </tr>\n",
       "    <tr>\n",
       "      <th>2153</th>\n",
       "      <td>-0.106618</td>\n",
       "      <td>1.298154</td>\n",
       "      <td>-0.011470</td>\n",
       "      <td>-0.220663</td>\n",
       "      <td>0.953933</td>\n",
       "      <td>0.669632</td>\n",
       "      <td>1.006642</td>\n",
       "      <td>0.706217</td>\n",
       "    </tr>\n",
       "    <tr>\n",
       "      <th>2154</th>\n",
       "      <td>-0.105347</td>\n",
       "      <td>1.295469</td>\n",
       "      <td>-0.012683</td>\n",
       "      <td>-0.220147</td>\n",
       "      <td>0.953202</td>\n",
       "      <td>0.669744</td>\n",
       "      <td>1.005839</td>\n",
       "      <td>0.706099</td>\n",
       "    </tr>\n",
       "  </tbody>\n",
       "</table>\n",
       "<p>2155 rows × 8 columns</p>\n",
       "</div>\n",
       "    <div class=\"colab-df-buttons\">\n",
       "\n",
       "  <div class=\"colab-df-container\">\n",
       "    <button class=\"colab-df-convert\" onclick=\"convertToInteractive('df-2ecb2b2f-39e0-442d-80d2-50abc683e207')\"\n",
       "            title=\"Convert this dataframe to an interactive table.\"\n",
       "            style=\"display:none;\">\n",
       "\n",
       "  <svg xmlns=\"http://www.w3.org/2000/svg\" height=\"24px\" viewBox=\"0 -960 960 960\">\n",
       "    <path d=\"M120-120v-720h720v720H120Zm60-500h600v-160H180v160Zm220 220h160v-160H400v160Zm0 220h160v-160H400v160ZM180-400h160v-160H180v160Zm440 0h160v-160H620v160ZM180-180h160v-160H180v160Zm440 0h160v-160H620v160Z\"/>\n",
       "  </svg>\n",
       "    </button>\n",
       "\n",
       "  <style>\n",
       "    .colab-df-container {\n",
       "      display:flex;\n",
       "      gap: 12px;\n",
       "    }\n",
       "\n",
       "    .colab-df-convert {\n",
       "      background-color: #E8F0FE;\n",
       "      border: none;\n",
       "      border-radius: 50%;\n",
       "      cursor: pointer;\n",
       "      display: none;\n",
       "      fill: #1967D2;\n",
       "      height: 32px;\n",
       "      padding: 0 0 0 0;\n",
       "      width: 32px;\n",
       "    }\n",
       "\n",
       "    .colab-df-convert:hover {\n",
       "      background-color: #E2EBFA;\n",
       "      box-shadow: 0px 1px 2px rgba(60, 64, 67, 0.3), 0px 1px 3px 1px rgba(60, 64, 67, 0.15);\n",
       "      fill: #174EA6;\n",
       "    }\n",
       "\n",
       "    .colab-df-buttons div {\n",
       "      margin-bottom: 4px;\n",
       "    }\n",
       "\n",
       "    [theme=dark] .colab-df-convert {\n",
       "      background-color: #3B4455;\n",
       "      fill: #D2E3FC;\n",
       "    }\n",
       "\n",
       "    [theme=dark] .colab-df-convert:hover {\n",
       "      background-color: #434B5C;\n",
       "      box-shadow: 0px 1px 3px 1px rgba(0, 0, 0, 0.15);\n",
       "      filter: drop-shadow(0px 1px 2px rgba(0, 0, 0, 0.3));\n",
       "      fill: #FFFFFF;\n",
       "    }\n",
       "  </style>\n",
       "\n",
       "    <script>\n",
       "      const buttonEl =\n",
       "        document.querySelector('#df-2ecb2b2f-39e0-442d-80d2-50abc683e207 button.colab-df-convert');\n",
       "      buttonEl.style.display =\n",
       "        google.colab.kernel.accessAllowed ? 'block' : 'none';\n",
       "\n",
       "      async function convertToInteractive(key) {\n",
       "        const element = document.querySelector('#df-2ecb2b2f-39e0-442d-80d2-50abc683e207');\n",
       "        const dataTable =\n",
       "          await google.colab.kernel.invokeFunction('convertToInteractive',\n",
       "                                                    [key], {});\n",
       "        if (!dataTable) return;\n",
       "\n",
       "        const docLinkHtml = 'Like what you see? Visit the ' +\n",
       "          '<a target=\"_blank\" href=https://colab.research.google.com/notebooks/data_table.ipynb>data table notebook</a>'\n",
       "          + ' to learn more about interactive tables.';\n",
       "        element.innerHTML = '';\n",
       "        dataTable['output_type'] = 'display_data';\n",
       "        await google.colab.output.renderOutput(dataTable, element);\n",
       "        const docLink = document.createElement('div');\n",
       "        docLink.innerHTML = docLinkHtml;\n",
       "        element.appendChild(docLink);\n",
       "      }\n",
       "    </script>\n",
       "  </div>\n",
       "\n",
       "\n",
       "<div id=\"df-94983202-4371-4f2b-8426-b2a9859c1b5e\">\n",
       "  <button class=\"colab-df-quickchart\" onclick=\"quickchart('df-94983202-4371-4f2b-8426-b2a9859c1b5e')\"\n",
       "            title=\"Suggest charts\"\n",
       "            style=\"display:none;\">\n",
       "\n",
       "<svg xmlns=\"http://www.w3.org/2000/svg\" height=\"24px\"viewBox=\"0 0 24 24\"\n",
       "     width=\"24px\">\n",
       "    <g>\n",
       "        <path d=\"M19 3H5c-1.1 0-2 .9-2 2v14c0 1.1.9 2 2 2h14c1.1 0 2-.9 2-2V5c0-1.1-.9-2-2-2zM9 17H7v-7h2v7zm4 0h-2V7h2v10zm4 0h-2v-4h2v4z\"/>\n",
       "    </g>\n",
       "</svg>\n",
       "  </button>\n",
       "\n",
       "<style>\n",
       "  .colab-df-quickchart {\n",
       "      --bg-color: #E8F0FE;\n",
       "      --fill-color: #1967D2;\n",
       "      --hover-bg-color: #E2EBFA;\n",
       "      --hover-fill-color: #174EA6;\n",
       "      --disabled-fill-color: #AAA;\n",
       "      --disabled-bg-color: #DDD;\n",
       "  }\n",
       "\n",
       "  [theme=dark] .colab-df-quickchart {\n",
       "      --bg-color: #3B4455;\n",
       "      --fill-color: #D2E3FC;\n",
       "      --hover-bg-color: #434B5C;\n",
       "      --hover-fill-color: #FFFFFF;\n",
       "      --disabled-bg-color: #3B4455;\n",
       "      --disabled-fill-color: #666;\n",
       "  }\n",
       "\n",
       "  .colab-df-quickchart {\n",
       "    background-color: var(--bg-color);\n",
       "    border: none;\n",
       "    border-radius: 50%;\n",
       "    cursor: pointer;\n",
       "    display: none;\n",
       "    fill: var(--fill-color);\n",
       "    height: 32px;\n",
       "    padding: 0;\n",
       "    width: 32px;\n",
       "  }\n",
       "\n",
       "  .colab-df-quickchart:hover {\n",
       "    background-color: var(--hover-bg-color);\n",
       "    box-shadow: 0 1px 2px rgba(60, 64, 67, 0.3), 0 1px 3px 1px rgba(60, 64, 67, 0.15);\n",
       "    fill: var(--button-hover-fill-color);\n",
       "  }\n",
       "\n",
       "  .colab-df-quickchart-complete:disabled,\n",
       "  .colab-df-quickchart-complete:disabled:hover {\n",
       "    background-color: var(--disabled-bg-color);\n",
       "    fill: var(--disabled-fill-color);\n",
       "    box-shadow: none;\n",
       "  }\n",
       "\n",
       "  .colab-df-spinner {\n",
       "    border: 2px solid var(--fill-color);\n",
       "    border-color: transparent;\n",
       "    border-bottom-color: var(--fill-color);\n",
       "    animation:\n",
       "      spin 1s steps(1) infinite;\n",
       "  }\n",
       "\n",
       "  @keyframes spin {\n",
       "    0% {\n",
       "      border-color: transparent;\n",
       "      border-bottom-color: var(--fill-color);\n",
       "      border-left-color: var(--fill-color);\n",
       "    }\n",
       "    20% {\n",
       "      border-color: transparent;\n",
       "      border-left-color: var(--fill-color);\n",
       "      border-top-color: var(--fill-color);\n",
       "    }\n",
       "    30% {\n",
       "      border-color: transparent;\n",
       "      border-left-color: var(--fill-color);\n",
       "      border-top-color: var(--fill-color);\n",
       "      border-right-color: var(--fill-color);\n",
       "    }\n",
       "    40% {\n",
       "      border-color: transparent;\n",
       "      border-right-color: var(--fill-color);\n",
       "      border-top-color: var(--fill-color);\n",
       "    }\n",
       "    60% {\n",
       "      border-color: transparent;\n",
       "      border-right-color: var(--fill-color);\n",
       "    }\n",
       "    80% {\n",
       "      border-color: transparent;\n",
       "      border-right-color: var(--fill-color);\n",
       "      border-bottom-color: var(--fill-color);\n",
       "    }\n",
       "    90% {\n",
       "      border-color: transparent;\n",
       "      border-bottom-color: var(--fill-color);\n",
       "    }\n",
       "  }\n",
       "</style>\n",
       "\n",
       "  <script>\n",
       "    async function quickchart(key) {\n",
       "      const quickchartButtonEl =\n",
       "        document.querySelector('#' + key + ' button');\n",
       "      quickchartButtonEl.disabled = true;  // To prevent multiple clicks.\n",
       "      quickchartButtonEl.classList.add('colab-df-spinner');\n",
       "      try {\n",
       "        const charts = await google.colab.kernel.invokeFunction(\n",
       "            'suggestCharts', [key], {});\n",
       "      } catch (error) {\n",
       "        console.error('Error during call to suggestCharts:', error);\n",
       "      }\n",
       "      quickchartButtonEl.classList.remove('colab-df-spinner');\n",
       "      quickchartButtonEl.classList.add('colab-df-quickchart-complete');\n",
       "    }\n",
       "    (() => {\n",
       "      let quickchartButtonEl =\n",
       "        document.querySelector('#df-94983202-4371-4f2b-8426-b2a9859c1b5e button');\n",
       "      quickchartButtonEl.style.display =\n",
       "        google.colab.kernel.accessAllowed ? 'block' : 'none';\n",
       "    })();\n",
       "  </script>\n",
       "</div>\n",
       "    </div>\n",
       "  </div>\n"
      ],
      "text/plain": [
       "           mu1       mu2       mu3       mu4      var1      var2      var3  \\\n",
       "0    -0.193404  1.535313  0.046028 -0.297995  1.009958  0.661254  1.084072   \n",
       "1    -0.188741  1.521325  0.046322 -0.291591  1.006979  0.660956  1.079586   \n",
       "2    -0.190799  1.528609  0.044820 -0.295673  1.008341  0.661304  1.081936   \n",
       "3    -0.189093  1.519636  0.052712 -0.287594  1.007302  0.659621  1.079292   \n",
       "4    -0.202746  1.559829  0.051793 -0.305938  1.015935  0.660615  1.092100   \n",
       "...        ...       ...       ...       ...       ...       ...       ...   \n",
       "2150 -0.106953  1.299037 -0.011351 -0.220990  0.954134  0.669632  1.006911   \n",
       "2151 -0.194736  1.537068  0.050658 -0.296404  1.010853  0.660371  1.084788   \n",
       "2152 -0.107631  1.301549 -0.012061 -0.222496  0.954569  0.669791  1.007684   \n",
       "2153 -0.106618  1.298154 -0.011470 -0.220663  0.953933  0.669632  1.006642   \n",
       "2154 -0.105347  1.295469 -0.012683 -0.220147  0.953202  0.669744  1.005839   \n",
       "\n",
       "          var4  \n",
       "0     0.700019  \n",
       "1     0.700779  \n",
       "2     0.700121  \n",
       "3     0.701626  \n",
       "4     0.699590  \n",
       "...        ...  \n",
       "2150  0.706197  \n",
       "2151  0.700522  \n",
       "2152  0.705944  \n",
       "2153  0.706217  \n",
       "2154  0.706099  \n",
       "\n",
       "[2155 rows x 8 columns]"
      ]
     },
     "execution_count": 80,
     "metadata": {},
     "output_type": "execute_result"
    }
   ],
   "source": [
    "res"
   ]
  },
  {
   "cell_type": "code",
   "execution_count": null,
   "metadata": {
    "colab": {
     "base_uri": "https://localhost:8080/",
     "height": 853
    },
    "executionInfo": {
     "elapsed": 5085,
     "status": "ok",
     "timestamp": 1718203439600,
     "user": {
      "displayName": "ALONSO MENENDEZ GONZALEZ",
      "userId": "00653166541482751966"
     },
     "user_tz": -120
    },
    "id": "j6wAHesj3ghE",
    "outputId": "356a7935-11cc-4c80-b26a-1d6d2965bbe4"
   },
   "outputs": [
    {
     "data": {
      "image/png": "[encoded data removed]",
      "text/plain": [
       "<Figure size 1400x1000 with 9 Axes>"
      ]
     },
     "metadata": {},
     "output_type": "display_data"
    }
   ],
   "source": [
    "res.hist(bins=50, figsize=(14, 10))  # Adjust the number of bins and figure size as needed\n",
    "plt.show()"
   ]
  },
  {
   "cell_type": "code",
   "execution_count": null,
   "metadata": {
    "id": "9rvcO03y3ghE"
   },
   "outputs": [],
   "source": [
    "res.to_csv(\"/content/drive/MyDrive/TFM/MeanVars/IMS-1-Quadz-QuadChannel-mean-var.csv\")"
   ]
  },
  {
   "cell_type": "markdown",
   "metadata": {
    "id": "2C-4FTwuuy-7"
   },
   "source": []
  }
 ],
 "metadata": {
  "colab": {
   "authorship_tag": "ABX9TyOhdxIWdVQ8bbQoVE7v/c0M",
   "collapsed_sections": [
    "r6dxVOGh8UVr",
    "stAObXaXX7Vg",
    "EjRU_OCMF4or",
    "tvJ0v5atXEv5",
    "7L72U_PIXGzv",
    "EjO480GrXI6-",
    "UMdHAbnN3uGf",
    "6ao6PY376jTA",
    "pUJBeIgs-Gb_"
   ],
   "provenance": []
  },
  "kernelspec": {
   "display_name": "Python 3",
   "name": "python3"
  },
  "language_info": {
   "name": "python"
  },
  "widgets": {
   "application/vnd.jupyter.widget-state+json": {
    "0e4332e8178745d78cc662ec54eb93d6": {
     "model_module": "@jupyter-widgets/controls",
     "model_module_version": "1.5.0",
     "model_name": "FloatProgressModel",
     "state": {
      "_dom_classes": [],
      "_model_module": "@jupyter-widgets/controls",
      "_model_module_version": "1.5.0",
      "_model_name": "FloatProgressModel",
      "_view_count": null,
      "_view_module": "@jupyter-widgets/controls",
      "_view_module_version": "1.5.0",
      "_view_name": "ProgressView",
      "bar_style": "",
      "description": "",
      "description_tooltip": null,
      "layout": "IPY_MODEL_ab1d4c265fa84cd89ddda75dafb8dc63",
      "max": 1,
      "min": 0,
      "orientation": "horizontal",
      "style": "IPY_MODEL_30cf9c5779584533aa3aa6bc9f21f163",
      "value": 1
     }
    },
    "1474e4d591414f4e8acbcbe9b6074e44": {
     "model_module": "@jupyter-widgets/base",
     "model_module_version": "1.2.0",
     "model_name": "LayoutModel",
     "state": {
      "_model_module": "@jupyter-widgets/base",
      "_model_module_version": "1.2.0",
      "_model_name": "LayoutModel",
      "_view_count": null,
      "_view_module": "@jupyter-widgets/base",
      "_view_module_version": "1.2.0",
      "_view_name": "LayoutView",
      "align_content": null,
      "align_items": null,
      "align_self": null,
      "border": null,
      "bottom": null,
      "display": null,
      "flex": null,
      "flex_flow": null,
      "grid_area": null,
      "grid_auto_columns": null,
      "grid_auto_flow": null,
      "grid_auto_rows": null,
      "grid_column": null,
      "grid_gap": null,
      "grid_row": null,
      "grid_template_areas": null,
      "grid_template_columns": null,
      "grid_template_rows": null,
      "height": null,
      "justify_content": null,
      "justify_items": null,
      "left": null,
      "margin": null,
      "max_height": null,
      "max_width": null,
      "min_height": null,
      "min_width": null,
      "object_fit": null,
      "object_position": null,
      "order": null,
      "overflow": null,
      "overflow_x": null,
      "overflow_y": null,
      "padding": null,
      "right": null,
      "top": null,
      "visibility": null,
      "width": null
     }
    },
    "209ea83207cc47649ec90a3216122bc5": {
     "model_module": "@jupyter-widgets/base",
     "model_module_version": "1.2.0",
     "model_name": "LayoutModel",
     "state": {
      "_model_module": "@jupyter-widgets/base",
      "_model_module_version": "1.2.0",
      "_model_name": "LayoutModel",
      "_view_count": null,
      "_view_module": "@jupyter-widgets/base",
      "_view_module_version": "1.2.0",
      "_view_name": "LayoutView",
      "align_content": null,
      "align_items": null,
      "align_self": null,
      "border": null,
      "bottom": null,
      "display": null,
      "flex": null,
      "flex_flow": null,
      "grid_area": null,
      "grid_auto_columns": null,
      "grid_auto_flow": null,
      "grid_auto_rows": null,
      "grid_column": null,
      "grid_gap": null,
      "grid_row": null,
      "grid_template_areas": null,
      "grid_template_columns": null,
      "grid_template_rows": null,
      "height": null,
      "justify_content": null,
      "justify_items": null,
      "left": null,
      "margin": null,
      "max_height": null,
      "max_width": null,
      "min_height": null,
      "min_width": null,
      "object_fit": null,
      "object_position": null,
      "order": null,
      "overflow": null,
      "overflow_x": null,
      "overflow_y": null,
      "padding": null,
      "right": null,
      "top": null,
      "visibility": null,
      "width": null
     }
    },
    "30cf9c5779584533aa3aa6bc9f21f163": {
     "model_module": "@jupyter-widgets/controls",
     "model_module_version": "1.5.0",
     "model_name": "ProgressStyleModel",
     "state": {
      "_model_module": "@jupyter-widgets/controls",
      "_model_module_version": "1.5.0",
      "_model_name": "ProgressStyleModel",
      "_view_count": null,
      "_view_module": "@jupyter-widgets/base",
      "_view_module_version": "1.2.0",
      "_view_name": "StyleView",
      "bar_color": null,
      "description_width": ""
     }
    },
    "560d27182f5e4b2c856777b6e8a464cf": {
     "model_module": "@jupyter-widgets/controls",
     "model_module_version": "1.5.0",
     "model_name": "LabelModel",
     "state": {
      "_dom_classes": [],
      "_model_module": "@jupyter-widgets/controls",
      "_model_module_version": "1.5.0",
      "_model_name": "LabelModel",
      "_view_count": null,
      "_view_module": "@jupyter-widgets/controls",
      "_view_module_version": "1.5.0",
      "_view_name": "LabelView",
      "description": "",
      "description_tooltip": null,
      "layout": "IPY_MODEL_1474e4d591414f4e8acbcbe9b6074e44",
      "placeholder": "​",
      "style": "IPY_MODEL_ef1ee81b78d24378b2d1913442c00b90",
      "value": "0.079 MB of 0.079 MB uploaded\r"
     }
    },
    "7728e69ab1014dcf8e1485c39bf57a33": {
     "model_module": "@jupyter-widgets/controls",
     "model_module_version": "1.5.0",
     "model_name": "VBoxModel",
     "state": {
      "_dom_classes": [],
      "_model_module": "@jupyter-widgets/controls",
      "_model_module_version": "1.5.0",
      "_model_name": "VBoxModel",
      "_view_count": null,
      "_view_module": "@jupyter-widgets/controls",
      "_view_module_version": "1.5.0",
      "_view_name": "VBoxView",
      "box_style": "",
      "children": [
       "IPY_MODEL_560d27182f5e4b2c856777b6e8a464cf",
       "IPY_MODEL_0e4332e8178745d78cc662ec54eb93d6"
      ],
      "layout": "IPY_MODEL_209ea83207cc47649ec90a3216122bc5"
     }
    },
    "ab1d4c265fa84cd89ddda75dafb8dc63": {
     "model_module": "@jupyter-widgets/base",
     "model_module_version": "1.2.0",
     "model_name": "LayoutModel",
     "state": {
      "_model_module": "@jupyter-widgets/base",
      "_model_module_version": "1.2.0",
      "_model_name": "LayoutModel",
      "_view_count": null,
      "_view_module": "@jupyter-widgets/base",
      "_view_module_version": "1.2.0",
      "_view_name": "LayoutView",
      "align_content": null,
      "align_items": null,
      "align_self": null,
      "border": null,
      "bottom": null,
      "display": null,
      "flex": null,
      "flex_flow": null,
      "grid_area": null,
      "grid_auto_columns": null,
      "grid_auto_flow": null,
      "grid_auto_rows": null,
      "grid_column": null,
      "grid_gap": null,
      "grid_row": null,
      "grid_template_areas": null,
      "grid_template_columns": null,
      "grid_template_rows": null,
      "height": null,
      "justify_content": null,
      "justify_items": null,
      "left": null,
      "margin": null,
      "max_height": null,
      "max_width": null,
      "min_height": null,
      "min_width": null,
      "object_fit": null,
      "object_position": null,
      "order": null,
      "overflow": null,
      "overflow_x": null,
      "overflow_y": null,
      "padding": null,
      "right": null,
      "top": null,
      "visibility": null,
      "width": null
     }
    },
    "ef1ee81b78d24378b2d1913442c00b90": {
     "model_module": "@jupyter-widgets/controls",
     "model_module_version": "1.5.0",
     "model_name": "DescriptionStyleModel",
     "state": {
      "_model_module": "@jupyter-widgets/controls",
      "_model_module_version": "1.5.0",
      "_model_name": "DescriptionStyleModel",
      "_view_count": null,
      "_view_module": "@jupyter-widgets/base",
      "_view_module_version": "1.2.0",
      "_view_name": "StyleView",
      "description_width": ""
     }
    }
   }
  }
 },
 "nbformat": 4,
 "nbformat_minor": 0
}
